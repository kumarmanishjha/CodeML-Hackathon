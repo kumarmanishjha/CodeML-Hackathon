{
 "cells": [
  {
   "cell_type": "markdown",
   "metadata": {},
   "source": [
    "## The challenge:\n",
    "\n",
    "\n",
    "Consumers have left comments (texts) of the last product they just used. We would like to know if it is possible to determine if the comments are positive or negative in the future for other products.\n",
    "\n",
    "This challenge is simple: use machine learning techniques to create a model that predicts what the positive or negative feedback is on using old feedback collected\n",
    "\n",
    "So the data here is text and what you will do is close to the branch of machine learning language processing\n",
    "\n",
    ".\n",
    "\n",
    "A notebook is given in the Notebook section and it contains a start of the word processing that you can do before sorting the text (it is just a track not the solution)\n",
    "\n",
    "This model that you will allow us in the future to have an automatic positive or negative feedback because the comments will immediately go through your algorithm"
   ]
  },
  {
   "cell_type": "code",
   "execution_count": null,
   "metadata": {},
   "outputs": [],
   "source": [
    "import"
   ]
  }
 ],
 "metadata": {
  "kernelspec": {
   "display_name": "Python 3",
   "language": "python",
   "name": "python3"
  },
  "language_info": {
   "codemirror_mode": {
    "name": "ipython",
    "version": 3
   },
   "file_extension": ".py",
   "mimetype": "text/x-python",
   "name": "python",
   "nbconvert_exporter": "python",
   "pygments_lexer": "ipython3",
   "version": "3.7.9"
  }
 },
 "nbformat": 4,
 "nbformat_minor": 4
}
