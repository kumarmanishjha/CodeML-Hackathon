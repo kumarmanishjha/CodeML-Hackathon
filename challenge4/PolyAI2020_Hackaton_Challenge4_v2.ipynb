{
  "nbformat": 4,
  "nbformat_minor": 0,
  "metadata": {
    "colab": {
      "name": "PolyAI2020-Hackaton-Challenge4-v2.ipynb",
      "provenance": [],
      "collapsed_sections": [],
      "toc_visible": true
    },
    "kernelspec": {
      "display_name": "Python 3",
      "language": "python",
      "name": "python3"
    },
    "language_info": {
      "codemirror_mode": {
        "name": "ipython",
        "version": 3
      },
      "file_extension": ".py",
      "mimetype": "text/x-python",
      "name": "python",
      "nbconvert_exporter": "python",
      "pygments_lexer": "ipython3",
      "version": "3.7.4"
    },
    "accelerator": "GPU",
    "widgets": {
      "application/vnd.jupyter.widget-state+json": {
        "3d7ee80f35d34b73ae6abd429bba0723": {
          "model_module": "@jupyter-widgets/controls",
          "model_name": "HBoxModel",
          "state": {
            "_view_name": "HBoxView",
            "_dom_classes": [],
            "_model_name": "HBoxModel",
            "_view_module": "@jupyter-widgets/controls",
            "_model_module_version": "1.5.0",
            "_view_count": null,
            "_view_module_version": "1.5.0",
            "box_style": "",
            "layout": "IPY_MODEL_41869cdeccbc4f2e9f70becdcc78e370",
            "_model_module": "@jupyter-widgets/controls",
            "children": [
              "IPY_MODEL_6f5bee7a3df841358022ba2035391511",
              "IPY_MODEL_643f123e9fbf4c3c99dc7f7697d3cc34",
              "IPY_MODEL_0d63f9d3e3bd46858293b540d1c99632"
            ]
          }
        },
        "41869cdeccbc4f2e9f70becdcc78e370": {
          "model_module": "@jupyter-widgets/base",
          "model_name": "LayoutModel",
          "state": {
            "_view_name": "LayoutView",
            "grid_template_rows": null,
            "right": null,
            "justify_content": null,
            "_view_module": "@jupyter-widgets/base",
            "overflow": null,
            "_model_module_version": "1.2.0",
            "_view_count": null,
            "flex_flow": null,
            "width": null,
            "min_width": null,
            "border": null,
            "align_items": null,
            "bottom": null,
            "_model_module": "@jupyter-widgets/base",
            "top": null,
            "grid_column": null,
            "overflow_y": null,
            "overflow_x": null,
            "grid_auto_flow": null,
            "grid_area": null,
            "grid_template_columns": null,
            "flex": null,
            "_model_name": "LayoutModel",
            "justify_items": null,
            "grid_row": null,
            "max_height": null,
            "align_content": null,
            "visibility": null,
            "align_self": null,
            "height": null,
            "min_height": null,
            "padding": null,
            "grid_auto_rows": null,
            "grid_gap": null,
            "max_width": null,
            "order": null,
            "_view_module_version": "1.2.0",
            "grid_template_areas": null,
            "object_position": null,
            "object_fit": null,
            "grid_auto_columns": null,
            "margin": null,
            "display": null,
            "left": null
          }
        },
        "6f5bee7a3df841358022ba2035391511": {
          "model_module": "@jupyter-widgets/controls",
          "model_name": "HTMLModel",
          "state": {
            "_view_name": "HTMLView",
            "style": "IPY_MODEL_f77d38e4b0ce40e3a0eb1eeaf026a1f2",
            "_dom_classes": [],
            "description": "",
            "_model_name": "HTMLModel",
            "placeholder": "​",
            "_view_module": "@jupyter-widgets/controls",
            "_model_module_version": "1.5.0",
            "value": "100%",
            "_view_count": null,
            "_view_module_version": "1.5.0",
            "description_tooltip": null,
            "_model_module": "@jupyter-widgets/controls",
            "layout": "IPY_MODEL_8f179d53df4242acbcad566bce281d99"
          }
        },
        "643f123e9fbf4c3c99dc7f7697d3cc34": {
          "model_module": "@jupyter-widgets/controls",
          "model_name": "FloatProgressModel",
          "state": {
            "_view_name": "ProgressView",
            "style": "IPY_MODEL_2f74dc5fcce44b458f4f8e802c7d2bc2",
            "_dom_classes": [],
            "description": "",
            "_model_name": "FloatProgressModel",
            "bar_style": "success",
            "max": 1750,
            "_view_module": "@jupyter-widgets/controls",
            "_model_module_version": "1.5.0",
            "value": 1750,
            "_view_count": null,
            "_view_module_version": "1.5.0",
            "orientation": "horizontal",
            "min": 0,
            "description_tooltip": null,
            "_model_module": "@jupyter-widgets/controls",
            "layout": "IPY_MODEL_ce4c3b7a2dcb4cb1bacfde25b12dddde"
          }
        },
        "0d63f9d3e3bd46858293b540d1c99632": {
          "model_module": "@jupyter-widgets/controls",
          "model_name": "HTMLModel",
          "state": {
            "_view_name": "HTMLView",
            "style": "IPY_MODEL_869a5377041d4ff980ef83b186828b37",
            "_dom_classes": [],
            "description": "",
            "_model_name": "HTMLModel",
            "placeholder": "​",
            "_view_module": "@jupyter-widgets/controls",
            "_model_module_version": "1.5.0",
            "value": " 1750/1750 [01:40&lt;00:00, 17.48it/s]",
            "_view_count": null,
            "_view_module_version": "1.5.0",
            "description_tooltip": null,
            "_model_module": "@jupyter-widgets/controls",
            "layout": "IPY_MODEL_a05ae55fca044e1bbb3c65936e81b474"
          }
        },
        "f77d38e4b0ce40e3a0eb1eeaf026a1f2": {
          "model_module": "@jupyter-widgets/controls",
          "model_name": "DescriptionStyleModel",
          "state": {
            "_view_name": "StyleView",
            "_model_name": "DescriptionStyleModel",
            "description_width": "",
            "_view_module": "@jupyter-widgets/base",
            "_model_module_version": "1.5.0",
            "_view_count": null,
            "_view_module_version": "1.2.0",
            "_model_module": "@jupyter-widgets/controls"
          }
        },
        "8f179d53df4242acbcad566bce281d99": {
          "model_module": "@jupyter-widgets/base",
          "model_name": "LayoutModel",
          "state": {
            "_view_name": "LayoutView",
            "grid_template_rows": null,
            "right": null,
            "justify_content": null,
            "_view_module": "@jupyter-widgets/base",
            "overflow": null,
            "_model_module_version": "1.2.0",
            "_view_count": null,
            "flex_flow": null,
            "width": null,
            "min_width": null,
            "border": null,
            "align_items": null,
            "bottom": null,
            "_model_module": "@jupyter-widgets/base",
            "top": null,
            "grid_column": null,
            "overflow_y": null,
            "overflow_x": null,
            "grid_auto_flow": null,
            "grid_area": null,
            "grid_template_columns": null,
            "flex": null,
            "_model_name": "LayoutModel",
            "justify_items": null,
            "grid_row": null,
            "max_height": null,
            "align_content": null,
            "visibility": null,
            "align_self": null,
            "height": null,
            "min_height": null,
            "padding": null,
            "grid_auto_rows": null,
            "grid_gap": null,
            "max_width": null,
            "order": null,
            "_view_module_version": "1.2.0",
            "grid_template_areas": null,
            "object_position": null,
            "object_fit": null,
            "grid_auto_columns": null,
            "margin": null,
            "display": null,
            "left": null
          }
        },
        "2f74dc5fcce44b458f4f8e802c7d2bc2": {
          "model_module": "@jupyter-widgets/controls",
          "model_name": "ProgressStyleModel",
          "state": {
            "_view_name": "StyleView",
            "_model_name": "ProgressStyleModel",
            "description_width": "",
            "_view_module": "@jupyter-widgets/base",
            "_model_module_version": "1.5.0",
            "_view_count": null,
            "_view_module_version": "1.2.0",
            "bar_color": null,
            "_model_module": "@jupyter-widgets/controls"
          }
        },
        "ce4c3b7a2dcb4cb1bacfde25b12dddde": {
          "model_module": "@jupyter-widgets/base",
          "model_name": "LayoutModel",
          "state": {
            "_view_name": "LayoutView",
            "grid_template_rows": null,
            "right": null,
            "justify_content": null,
            "_view_module": "@jupyter-widgets/base",
            "overflow": null,
            "_model_module_version": "1.2.0",
            "_view_count": null,
            "flex_flow": null,
            "width": null,
            "min_width": null,
            "border": null,
            "align_items": null,
            "bottom": null,
            "_model_module": "@jupyter-widgets/base",
            "top": null,
            "grid_column": null,
            "overflow_y": null,
            "overflow_x": null,
            "grid_auto_flow": null,
            "grid_area": null,
            "grid_template_columns": null,
            "flex": null,
            "_model_name": "LayoutModel",
            "justify_items": null,
            "grid_row": null,
            "max_height": null,
            "align_content": null,
            "visibility": null,
            "align_self": null,
            "height": null,
            "min_height": null,
            "padding": null,
            "grid_auto_rows": null,
            "grid_gap": null,
            "max_width": null,
            "order": null,
            "_view_module_version": "1.2.0",
            "grid_template_areas": null,
            "object_position": null,
            "object_fit": null,
            "grid_auto_columns": null,
            "margin": null,
            "display": null,
            "left": null
          }
        },
        "869a5377041d4ff980ef83b186828b37": {
          "model_module": "@jupyter-widgets/controls",
          "model_name": "DescriptionStyleModel",
          "state": {
            "_view_name": "StyleView",
            "_model_name": "DescriptionStyleModel",
            "description_width": "",
            "_view_module": "@jupyter-widgets/base",
            "_model_module_version": "1.5.0",
            "_view_count": null,
            "_view_module_version": "1.2.0",
            "_model_module": "@jupyter-widgets/controls"
          }
        },
        "a05ae55fca044e1bbb3c65936e81b474": {
          "model_module": "@jupyter-widgets/base",
          "model_name": "LayoutModel",
          "state": {
            "_view_name": "LayoutView",
            "grid_template_rows": null,
            "right": null,
            "justify_content": null,
            "_view_module": "@jupyter-widgets/base",
            "overflow": null,
            "_model_module_version": "1.2.0",
            "_view_count": null,
            "flex_flow": null,
            "width": null,
            "min_width": null,
            "border": null,
            "align_items": null,
            "bottom": null,
            "_model_module": "@jupyter-widgets/base",
            "top": null,
            "grid_column": null,
            "overflow_y": null,
            "overflow_x": null,
            "grid_auto_flow": null,
            "grid_area": null,
            "grid_template_columns": null,
            "flex": null,
            "_model_name": "LayoutModel",
            "justify_items": null,
            "grid_row": null,
            "max_height": null,
            "align_content": null,
            "visibility": null,
            "align_self": null,
            "height": null,
            "min_height": null,
            "padding": null,
            "grid_auto_rows": null,
            "grid_gap": null,
            "max_width": null,
            "order": null,
            "_view_module_version": "1.2.0",
            "grid_template_areas": null,
            "object_position": null,
            "object_fit": null,
            "grid_auto_columns": null,
            "margin": null,
            "display": null,
            "left": null
          }
        },
        "222ef9d4b73f4fe7a14e82c67de122d7": {
          "model_module": "@jupyter-widgets/controls",
          "model_name": "HBoxModel",
          "state": {
            "_view_name": "HBoxView",
            "_dom_classes": [],
            "_model_name": "HBoxModel",
            "_view_module": "@jupyter-widgets/controls",
            "_model_module_version": "1.5.0",
            "_view_count": null,
            "_view_module_version": "1.5.0",
            "box_style": "",
            "layout": "IPY_MODEL_141c482b906b437d837771da9922cdc7",
            "_model_module": "@jupyter-widgets/controls",
            "children": [
              "IPY_MODEL_73da4b8bc7184297896762693d86176c",
              "IPY_MODEL_beb6321e79424b5a89baa19922024daa",
              "IPY_MODEL_1b867f9fd480488ebde6d599db12fe9f"
            ]
          }
        },
        "141c482b906b437d837771da9922cdc7": {
          "model_module": "@jupyter-widgets/base",
          "model_name": "LayoutModel",
          "state": {
            "_view_name": "LayoutView",
            "grid_template_rows": null,
            "right": null,
            "justify_content": null,
            "_view_module": "@jupyter-widgets/base",
            "overflow": null,
            "_model_module_version": "1.2.0",
            "_view_count": null,
            "flex_flow": null,
            "width": null,
            "min_width": null,
            "border": null,
            "align_items": null,
            "bottom": null,
            "_model_module": "@jupyter-widgets/base",
            "top": null,
            "grid_column": null,
            "overflow_y": null,
            "overflow_x": null,
            "grid_auto_flow": null,
            "grid_area": null,
            "grid_template_columns": null,
            "flex": null,
            "_model_name": "LayoutModel",
            "justify_items": null,
            "grid_row": null,
            "max_height": null,
            "align_content": null,
            "visibility": null,
            "align_self": null,
            "height": null,
            "min_height": null,
            "padding": null,
            "grid_auto_rows": null,
            "grid_gap": null,
            "max_width": null,
            "order": null,
            "_view_module_version": "1.2.0",
            "grid_template_areas": null,
            "object_position": null,
            "object_fit": null,
            "grid_auto_columns": null,
            "margin": null,
            "display": null,
            "left": null
          }
        },
        "73da4b8bc7184297896762693d86176c": {
          "model_module": "@jupyter-widgets/controls",
          "model_name": "HTMLModel",
          "state": {
            "_view_name": "HTMLView",
            "style": "IPY_MODEL_cfa8feb082344d5da7449acf02d7b9f6",
            "_dom_classes": [],
            "description": "",
            "_model_name": "HTMLModel",
            "placeholder": "​",
            "_view_module": "@jupyter-widgets/controls",
            "_model_module_version": "1.5.0",
            "value": "Running Evaluation: 100%",
            "_view_count": null,
            "_view_module_version": "1.5.0",
            "description_tooltip": null,
            "_model_module": "@jupyter-widgets/controls",
            "layout": "IPY_MODEL_c5561bd91f01458babb9e357fe4bb48d"
          }
        },
        "beb6321e79424b5a89baa19922024daa": {
          "model_module": "@jupyter-widgets/controls",
          "model_name": "FloatProgressModel",
          "state": {
            "_view_name": "ProgressView",
            "style": "IPY_MODEL_f356b4e5d1db46bd9774acec3a7f75ce",
            "_dom_classes": [],
            "description": "",
            "_model_name": "FloatProgressModel",
            "bar_style": "success",
            "max": 219,
            "_view_module": "@jupyter-widgets/controls",
            "_model_module_version": "1.5.0",
            "value": 219,
            "_view_count": null,
            "_view_module_version": "1.5.0",
            "orientation": "horizontal",
            "min": 0,
            "description_tooltip": null,
            "_model_module": "@jupyter-widgets/controls",
            "layout": "IPY_MODEL_8c7406335ad24c39bb5525d30041dd63"
          }
        },
        "1b867f9fd480488ebde6d599db12fe9f": {
          "model_module": "@jupyter-widgets/controls",
          "model_name": "HTMLModel",
          "state": {
            "_view_name": "HTMLView",
            "style": "IPY_MODEL_43c84d3c273b4d76990596b3d66e9a7e",
            "_dom_classes": [],
            "description": "",
            "_model_name": "HTMLModel",
            "placeholder": "​",
            "_view_module": "@jupyter-widgets/controls",
            "_model_module_version": "1.5.0",
            "value": " 219/219 [00:06&lt;00:00, 35.62it/s]",
            "_view_count": null,
            "_view_module_version": "1.5.0",
            "description_tooltip": null,
            "_model_module": "@jupyter-widgets/controls",
            "layout": "IPY_MODEL_ac5f3fd53b6f4a699e8b89468f0f991d"
          }
        },
        "cfa8feb082344d5da7449acf02d7b9f6": {
          "model_module": "@jupyter-widgets/controls",
          "model_name": "DescriptionStyleModel",
          "state": {
            "_view_name": "StyleView",
            "_model_name": "DescriptionStyleModel",
            "description_width": "",
            "_view_module": "@jupyter-widgets/base",
            "_model_module_version": "1.5.0",
            "_view_count": null,
            "_view_module_version": "1.2.0",
            "_model_module": "@jupyter-widgets/controls"
          }
        },
        "c5561bd91f01458babb9e357fe4bb48d": {
          "model_module": "@jupyter-widgets/base",
          "model_name": "LayoutModel",
          "state": {
            "_view_name": "LayoutView",
            "grid_template_rows": null,
            "right": null,
            "justify_content": null,
            "_view_module": "@jupyter-widgets/base",
            "overflow": null,
            "_model_module_version": "1.2.0",
            "_view_count": null,
            "flex_flow": null,
            "width": null,
            "min_width": null,
            "border": null,
            "align_items": null,
            "bottom": null,
            "_model_module": "@jupyter-widgets/base",
            "top": null,
            "grid_column": null,
            "overflow_y": null,
            "overflow_x": null,
            "grid_auto_flow": null,
            "grid_area": null,
            "grid_template_columns": null,
            "flex": null,
            "_model_name": "LayoutModel",
            "justify_items": null,
            "grid_row": null,
            "max_height": null,
            "align_content": null,
            "visibility": null,
            "align_self": null,
            "height": null,
            "min_height": null,
            "padding": null,
            "grid_auto_rows": null,
            "grid_gap": null,
            "max_width": null,
            "order": null,
            "_view_module_version": "1.2.0",
            "grid_template_areas": null,
            "object_position": null,
            "object_fit": null,
            "grid_auto_columns": null,
            "margin": null,
            "display": null,
            "left": null
          }
        },
        "f356b4e5d1db46bd9774acec3a7f75ce": {
          "model_module": "@jupyter-widgets/controls",
          "model_name": "ProgressStyleModel",
          "state": {
            "_view_name": "StyleView",
            "_model_name": "ProgressStyleModel",
            "description_width": "",
            "_view_module": "@jupyter-widgets/base",
            "_model_module_version": "1.5.0",
            "_view_count": null,
            "_view_module_version": "1.2.0",
            "bar_color": null,
            "_model_module": "@jupyter-widgets/controls"
          }
        },
        "8c7406335ad24c39bb5525d30041dd63": {
          "model_module": "@jupyter-widgets/base",
          "model_name": "LayoutModel",
          "state": {
            "_view_name": "LayoutView",
            "grid_template_rows": null,
            "right": null,
            "justify_content": null,
            "_view_module": "@jupyter-widgets/base",
            "overflow": null,
            "_model_module_version": "1.2.0",
            "_view_count": null,
            "flex_flow": null,
            "width": null,
            "min_width": null,
            "border": null,
            "align_items": null,
            "bottom": null,
            "_model_module": "@jupyter-widgets/base",
            "top": null,
            "grid_column": null,
            "overflow_y": null,
            "overflow_x": null,
            "grid_auto_flow": null,
            "grid_area": null,
            "grid_template_columns": null,
            "flex": null,
            "_model_name": "LayoutModel",
            "justify_items": null,
            "grid_row": null,
            "max_height": null,
            "align_content": null,
            "visibility": null,
            "align_self": null,
            "height": null,
            "min_height": null,
            "padding": null,
            "grid_auto_rows": null,
            "grid_gap": null,
            "max_width": null,
            "order": null,
            "_view_module_version": "1.2.0",
            "grid_template_areas": null,
            "object_position": null,
            "object_fit": null,
            "grid_auto_columns": null,
            "margin": null,
            "display": null,
            "left": null
          }
        },
        "43c84d3c273b4d76990596b3d66e9a7e": {
          "model_module": "@jupyter-widgets/controls",
          "model_name": "DescriptionStyleModel",
          "state": {
            "_view_name": "StyleView",
            "_model_name": "DescriptionStyleModel",
            "description_width": "",
            "_view_module": "@jupyter-widgets/base",
            "_model_module_version": "1.5.0",
            "_view_count": null,
            "_view_module_version": "1.2.0",
            "_model_module": "@jupyter-widgets/controls"
          }
        },
        "ac5f3fd53b6f4a699e8b89468f0f991d": {
          "model_module": "@jupyter-widgets/base",
          "model_name": "LayoutModel",
          "state": {
            "_view_name": "LayoutView",
            "grid_template_rows": null,
            "right": null,
            "justify_content": null,
            "_view_module": "@jupyter-widgets/base",
            "overflow": null,
            "_model_module_version": "1.2.0",
            "_view_count": null,
            "flex_flow": null,
            "width": null,
            "min_width": null,
            "border": null,
            "align_items": null,
            "bottom": null,
            "_model_module": "@jupyter-widgets/base",
            "top": null,
            "grid_column": null,
            "overflow_y": null,
            "overflow_x": null,
            "grid_auto_flow": null,
            "grid_area": null,
            "grid_template_columns": null,
            "flex": null,
            "_model_name": "LayoutModel",
            "justify_items": null,
            "grid_row": null,
            "max_height": null,
            "align_content": null,
            "visibility": null,
            "align_self": null,
            "height": null,
            "min_height": null,
            "padding": null,
            "grid_auto_rows": null,
            "grid_gap": null,
            "max_width": null,
            "order": null,
            "_view_module_version": "1.2.0",
            "grid_template_areas": null,
            "object_position": null,
            "object_fit": null,
            "grid_auto_columns": null,
            "margin": null,
            "display": null,
            "left": null
          }
        },
        "c05ae85dc5d449d08da2f8d63e171219": {
          "model_module": "@jupyter-widgets/controls",
          "model_name": "HBoxModel",
          "state": {
            "_view_name": "HBoxView",
            "_dom_classes": [],
            "_model_name": "HBoxModel",
            "_view_module": "@jupyter-widgets/controls",
            "_model_module_version": "1.5.0",
            "_view_count": null,
            "_view_module_version": "1.5.0",
            "box_style": "",
            "layout": "IPY_MODEL_ada884d753c14d08a51e9757af0f99dd",
            "_model_module": "@jupyter-widgets/controls",
            "children": [
              "IPY_MODEL_6dc5ffcd880942258d3ac4b41ffb569d",
              "IPY_MODEL_53b954f0d91c44bf9e0b6e9c920a9d18",
              "IPY_MODEL_70b1a0b9765c4f00a97badb9742d364e"
            ]
          }
        },
        "ada884d753c14d08a51e9757af0f99dd": {
          "model_module": "@jupyter-widgets/base",
          "model_name": "LayoutModel",
          "state": {
            "_view_name": "LayoutView",
            "grid_template_rows": null,
            "right": null,
            "justify_content": null,
            "_view_module": "@jupyter-widgets/base",
            "overflow": null,
            "_model_module_version": "1.2.0",
            "_view_count": null,
            "flex_flow": null,
            "width": null,
            "min_width": null,
            "border": null,
            "align_items": null,
            "bottom": null,
            "_model_module": "@jupyter-widgets/base",
            "top": null,
            "grid_column": null,
            "overflow_y": null,
            "overflow_x": null,
            "grid_auto_flow": null,
            "grid_area": null,
            "grid_template_columns": null,
            "flex": null,
            "_model_name": "LayoutModel",
            "justify_items": null,
            "grid_row": null,
            "max_height": null,
            "align_content": null,
            "visibility": null,
            "align_self": null,
            "height": null,
            "min_height": null,
            "padding": null,
            "grid_auto_rows": null,
            "grid_gap": null,
            "max_width": null,
            "order": null,
            "_view_module_version": "1.2.0",
            "grid_template_areas": null,
            "object_position": null,
            "object_fit": null,
            "grid_auto_columns": null,
            "margin": null,
            "display": null,
            "left": null
          }
        },
        "6dc5ffcd880942258d3ac4b41ffb569d": {
          "model_module": "@jupyter-widgets/controls",
          "model_name": "HTMLModel",
          "state": {
            "_view_name": "HTMLView",
            "style": "IPY_MODEL_11a0705473584ece9507ff8f98319b3b",
            "_dom_classes": [],
            "description": "",
            "_model_name": "HTMLModel",
            "placeholder": "​",
            "_view_module": "@jupyter-widgets/controls",
            "_model_module_version": "1.5.0",
            "value": "100%",
            "_view_count": null,
            "_view_module_version": "1.5.0",
            "description_tooltip": null,
            "_model_module": "@jupyter-widgets/controls",
            "layout": "IPY_MODEL_cc7bb12bd33e4c8e9d0b7cb8d8430ed3"
          }
        },
        "53b954f0d91c44bf9e0b6e9c920a9d18": {
          "model_module": "@jupyter-widgets/controls",
          "model_name": "FloatProgressModel",
          "state": {
            "_view_name": "ProgressView",
            "style": "IPY_MODEL_cb7a3f3ad7b34a9bb46f83a85cf79af9",
            "_dom_classes": [],
            "description": "",
            "_model_name": "FloatProgressModel",
            "bar_style": "success",
            "max": 7501,
            "_view_module": "@jupyter-widgets/controls",
            "_model_module_version": "1.5.0",
            "value": 7501,
            "_view_count": null,
            "_view_module_version": "1.5.0",
            "orientation": "horizontal",
            "min": 0,
            "description_tooltip": null,
            "_model_module": "@jupyter-widgets/controls",
            "layout": "IPY_MODEL_9cf8ac882453479a8f6ddad58d0acee0"
          }
        },
        "70b1a0b9765c4f00a97badb9742d364e": {
          "model_module": "@jupyter-widgets/controls",
          "model_name": "HTMLModel",
          "state": {
            "_view_name": "HTMLView",
            "style": "IPY_MODEL_609dcc6fd9d84cf39df87965b313e6b7",
            "_dom_classes": [],
            "description": "",
            "_model_name": "HTMLModel",
            "placeholder": "​",
            "_view_module": "@jupyter-widgets/controls",
            "_model_module_version": "1.5.0",
            "value": " 7501/7501 [00:25&lt;00:00, 289.89it/s]",
            "_view_count": null,
            "_view_module_version": "1.5.0",
            "description_tooltip": null,
            "_model_module": "@jupyter-widgets/controls",
            "layout": "IPY_MODEL_451ef500e8714fbea0da23c3f89c6d0c"
          }
        },
        "11a0705473584ece9507ff8f98319b3b": {
          "model_module": "@jupyter-widgets/controls",
          "model_name": "DescriptionStyleModel",
          "state": {
            "_view_name": "StyleView",
            "_model_name": "DescriptionStyleModel",
            "description_width": "",
            "_view_module": "@jupyter-widgets/base",
            "_model_module_version": "1.5.0",
            "_view_count": null,
            "_view_module_version": "1.2.0",
            "_model_module": "@jupyter-widgets/controls"
          }
        },
        "cc7bb12bd33e4c8e9d0b7cb8d8430ed3": {
          "model_module": "@jupyter-widgets/base",
          "model_name": "LayoutModel",
          "state": {
            "_view_name": "LayoutView",
            "grid_template_rows": null,
            "right": null,
            "justify_content": null,
            "_view_module": "@jupyter-widgets/base",
            "overflow": null,
            "_model_module_version": "1.2.0",
            "_view_count": null,
            "flex_flow": null,
            "width": null,
            "min_width": null,
            "border": null,
            "align_items": null,
            "bottom": null,
            "_model_module": "@jupyter-widgets/base",
            "top": null,
            "grid_column": null,
            "overflow_y": null,
            "overflow_x": null,
            "grid_auto_flow": null,
            "grid_area": null,
            "grid_template_columns": null,
            "flex": null,
            "_model_name": "LayoutModel",
            "justify_items": null,
            "grid_row": null,
            "max_height": null,
            "align_content": null,
            "visibility": null,
            "align_self": null,
            "height": null,
            "min_height": null,
            "padding": null,
            "grid_auto_rows": null,
            "grid_gap": null,
            "max_width": null,
            "order": null,
            "_view_module_version": "1.2.0",
            "grid_template_areas": null,
            "object_position": null,
            "object_fit": null,
            "grid_auto_columns": null,
            "margin": null,
            "display": null,
            "left": null
          }
        },
        "cb7a3f3ad7b34a9bb46f83a85cf79af9": {
          "model_module": "@jupyter-widgets/controls",
          "model_name": "ProgressStyleModel",
          "state": {
            "_view_name": "StyleView",
            "_model_name": "ProgressStyleModel",
            "description_width": "",
            "_view_module": "@jupyter-widgets/base",
            "_model_module_version": "1.5.0",
            "_view_count": null,
            "_view_module_version": "1.2.0",
            "bar_color": null,
            "_model_module": "@jupyter-widgets/controls"
          }
        },
        "9cf8ac882453479a8f6ddad58d0acee0": {
          "model_module": "@jupyter-widgets/base",
          "model_name": "LayoutModel",
          "state": {
            "_view_name": "LayoutView",
            "grid_template_rows": null,
            "right": null,
            "justify_content": null,
            "_view_module": "@jupyter-widgets/base",
            "overflow": null,
            "_model_module_version": "1.2.0",
            "_view_count": null,
            "flex_flow": null,
            "width": null,
            "min_width": null,
            "border": null,
            "align_items": null,
            "bottom": null,
            "_model_module": "@jupyter-widgets/base",
            "top": null,
            "grid_column": null,
            "overflow_y": null,
            "overflow_x": null,
            "grid_auto_flow": null,
            "grid_area": null,
            "grid_template_columns": null,
            "flex": null,
            "_model_name": "LayoutModel",
            "justify_items": null,
            "grid_row": null,
            "max_height": null,
            "align_content": null,
            "visibility": null,
            "align_self": null,
            "height": null,
            "min_height": null,
            "padding": null,
            "grid_auto_rows": null,
            "grid_gap": null,
            "max_width": null,
            "order": null,
            "_view_module_version": "1.2.0",
            "grid_template_areas": null,
            "object_position": null,
            "object_fit": null,
            "grid_auto_columns": null,
            "margin": null,
            "display": null,
            "left": null
          }
        },
        "609dcc6fd9d84cf39df87965b313e6b7": {
          "model_module": "@jupyter-widgets/controls",
          "model_name": "DescriptionStyleModel",
          "state": {
            "_view_name": "StyleView",
            "_model_name": "DescriptionStyleModel",
            "description_width": "",
            "_view_module": "@jupyter-widgets/base",
            "_model_module_version": "1.5.0",
            "_view_count": null,
            "_view_module_version": "1.2.0",
            "_model_module": "@jupyter-widgets/controls"
          }
        },
        "451ef500e8714fbea0da23c3f89c6d0c": {
          "model_module": "@jupyter-widgets/base",
          "model_name": "LayoutModel",
          "state": {
            "_view_name": "LayoutView",
            "grid_template_rows": null,
            "right": null,
            "justify_content": null,
            "_view_module": "@jupyter-widgets/base",
            "overflow": null,
            "_model_module_version": "1.2.0",
            "_view_count": null,
            "flex_flow": null,
            "width": null,
            "min_width": null,
            "border": null,
            "align_items": null,
            "bottom": null,
            "_model_module": "@jupyter-widgets/base",
            "top": null,
            "grid_column": null,
            "overflow_y": null,
            "overflow_x": null,
            "grid_auto_flow": null,
            "grid_area": null,
            "grid_template_columns": null,
            "flex": null,
            "_model_name": "LayoutModel",
            "justify_items": null,
            "grid_row": null,
            "max_height": null,
            "align_content": null,
            "visibility": null,
            "align_self": null,
            "height": null,
            "min_height": null,
            "padding": null,
            "grid_auto_rows": null,
            "grid_gap": null,
            "max_width": null,
            "order": null,
            "_view_module_version": "1.2.0",
            "grid_template_areas": null,
            "object_position": null,
            "object_fit": null,
            "grid_auto_columns": null,
            "margin": null,
            "display": null,
            "left": null
          }
        },
        "4dbdce3f29624e4e897cd1882ad322c6": {
          "model_module": "@jupyter-widgets/controls",
          "model_name": "HBoxModel",
          "state": {
            "_view_name": "HBoxView",
            "_dom_classes": [],
            "_model_name": "HBoxModel",
            "_view_module": "@jupyter-widgets/controls",
            "_model_module_version": "1.5.0",
            "_view_count": null,
            "_view_module_version": "1.5.0",
            "box_style": "",
            "layout": "IPY_MODEL_cd7b55049556452ea4b849dc9ad8be0d",
            "_model_module": "@jupyter-widgets/controls",
            "children": [
              "IPY_MODEL_bbbd0025540141d1bedd0dab9adcbe3a",
              "IPY_MODEL_9e613e8c002e43de90121763813e1d71",
              "IPY_MODEL_0f7a0e37db3f44ba97abfa6f14babb9c"
            ]
          }
        },
        "cd7b55049556452ea4b849dc9ad8be0d": {
          "model_module": "@jupyter-widgets/base",
          "model_name": "LayoutModel",
          "state": {
            "_view_name": "LayoutView",
            "grid_template_rows": null,
            "right": null,
            "justify_content": null,
            "_view_module": "@jupyter-widgets/base",
            "overflow": null,
            "_model_module_version": "1.2.0",
            "_view_count": null,
            "flex_flow": null,
            "width": null,
            "min_width": null,
            "border": null,
            "align_items": null,
            "bottom": null,
            "_model_module": "@jupyter-widgets/base",
            "top": null,
            "grid_column": null,
            "overflow_y": null,
            "overflow_x": null,
            "grid_auto_flow": null,
            "grid_area": null,
            "grid_template_columns": null,
            "flex": null,
            "_model_name": "LayoutModel",
            "justify_items": null,
            "grid_row": null,
            "max_height": null,
            "align_content": null,
            "visibility": null,
            "align_self": null,
            "height": null,
            "min_height": null,
            "padding": null,
            "grid_auto_rows": null,
            "grid_gap": null,
            "max_width": null,
            "order": null,
            "_view_module_version": "1.2.0",
            "grid_template_areas": null,
            "object_position": null,
            "object_fit": null,
            "grid_auto_columns": null,
            "margin": null,
            "display": null,
            "left": null
          }
        },
        "bbbd0025540141d1bedd0dab9adcbe3a": {
          "model_module": "@jupyter-widgets/controls",
          "model_name": "HTMLModel",
          "state": {
            "_view_name": "HTMLView",
            "style": "IPY_MODEL_2b263f24e6bf4730809372fa9d8a8d32",
            "_dom_classes": [],
            "description": "",
            "_model_name": "HTMLModel",
            "placeholder": "​",
            "_view_module": "@jupyter-widgets/controls",
            "_model_module_version": "1.5.0",
            "value": "100%",
            "_view_count": null,
            "_view_module_version": "1.5.0",
            "description_tooltip": null,
            "_model_module": "@jupyter-widgets/controls",
            "layout": "IPY_MODEL_0968091508384effb3959320ee2b0349"
          }
        },
        "9e613e8c002e43de90121763813e1d71": {
          "model_module": "@jupyter-widgets/controls",
          "model_name": "FloatProgressModel",
          "state": {
            "_view_name": "ProgressView",
            "style": "IPY_MODEL_fe1706e98df04d26aae067990cc75143",
            "_dom_classes": [],
            "description": "",
            "_model_name": "FloatProgressModel",
            "bar_style": "success",
            "max": 938,
            "_view_module": "@jupyter-widgets/controls",
            "_model_module_version": "1.5.0",
            "value": 938,
            "_view_count": null,
            "_view_module_version": "1.5.0",
            "orientation": "horizontal",
            "min": 0,
            "description_tooltip": null,
            "_model_module": "@jupyter-widgets/controls",
            "layout": "IPY_MODEL_998f8d37964d42ef8b53a2d92753766f"
          }
        },
        "0f7a0e37db3f44ba97abfa6f14babb9c": {
          "model_module": "@jupyter-widgets/controls",
          "model_name": "HTMLModel",
          "state": {
            "_view_name": "HTMLView",
            "style": "IPY_MODEL_dc3b8c71fbc849edb81c177773f3cb49",
            "_dom_classes": [],
            "description": "",
            "_model_name": "HTMLModel",
            "placeholder": "​",
            "_view_module": "@jupyter-widgets/controls",
            "_model_module_version": "1.5.0",
            "value": " 938/938 [04:23&lt;00:00,  3.56it/s]",
            "_view_count": null,
            "_view_module_version": "1.5.0",
            "description_tooltip": null,
            "_model_module": "@jupyter-widgets/controls",
            "layout": "IPY_MODEL_892fa62487e4445fac6220d3b73527a2"
          }
        },
        "2b263f24e6bf4730809372fa9d8a8d32": {
          "model_module": "@jupyter-widgets/controls",
          "model_name": "DescriptionStyleModel",
          "state": {
            "_view_name": "StyleView",
            "_model_name": "DescriptionStyleModel",
            "description_width": "",
            "_view_module": "@jupyter-widgets/base",
            "_model_module_version": "1.5.0",
            "_view_count": null,
            "_view_module_version": "1.2.0",
            "_model_module": "@jupyter-widgets/controls"
          }
        },
        "0968091508384effb3959320ee2b0349": {
          "model_module": "@jupyter-widgets/base",
          "model_name": "LayoutModel",
          "state": {
            "_view_name": "LayoutView",
            "grid_template_rows": null,
            "right": null,
            "justify_content": null,
            "_view_module": "@jupyter-widgets/base",
            "overflow": null,
            "_model_module_version": "1.2.0",
            "_view_count": null,
            "flex_flow": null,
            "width": null,
            "min_width": null,
            "border": null,
            "align_items": null,
            "bottom": null,
            "_model_module": "@jupyter-widgets/base",
            "top": null,
            "grid_column": null,
            "overflow_y": null,
            "overflow_x": null,
            "grid_auto_flow": null,
            "grid_area": null,
            "grid_template_columns": null,
            "flex": null,
            "_model_name": "LayoutModel",
            "justify_items": null,
            "grid_row": null,
            "max_height": null,
            "align_content": null,
            "visibility": null,
            "align_self": null,
            "height": null,
            "min_height": null,
            "padding": null,
            "grid_auto_rows": null,
            "grid_gap": null,
            "max_width": null,
            "order": null,
            "_view_module_version": "1.2.0",
            "grid_template_areas": null,
            "object_position": null,
            "object_fit": null,
            "grid_auto_columns": null,
            "margin": null,
            "display": null,
            "left": null
          }
        },
        "fe1706e98df04d26aae067990cc75143": {
          "model_module": "@jupyter-widgets/controls",
          "model_name": "ProgressStyleModel",
          "state": {
            "_view_name": "StyleView",
            "_model_name": "ProgressStyleModel",
            "description_width": "",
            "_view_module": "@jupyter-widgets/base",
            "_model_module_version": "1.5.0",
            "_view_count": null,
            "_view_module_version": "1.2.0",
            "bar_color": null,
            "_model_module": "@jupyter-widgets/controls"
          }
        },
        "998f8d37964d42ef8b53a2d92753766f": {
          "model_module": "@jupyter-widgets/base",
          "model_name": "LayoutModel",
          "state": {
            "_view_name": "LayoutView",
            "grid_template_rows": null,
            "right": null,
            "justify_content": null,
            "_view_module": "@jupyter-widgets/base",
            "overflow": null,
            "_model_module_version": "1.2.0",
            "_view_count": null,
            "flex_flow": null,
            "width": null,
            "min_width": null,
            "border": null,
            "align_items": null,
            "bottom": null,
            "_model_module": "@jupyter-widgets/base",
            "top": null,
            "grid_column": null,
            "overflow_y": null,
            "overflow_x": null,
            "grid_auto_flow": null,
            "grid_area": null,
            "grid_template_columns": null,
            "flex": null,
            "_model_name": "LayoutModel",
            "justify_items": null,
            "grid_row": null,
            "max_height": null,
            "align_content": null,
            "visibility": null,
            "align_self": null,
            "height": null,
            "min_height": null,
            "padding": null,
            "grid_auto_rows": null,
            "grid_gap": null,
            "max_width": null,
            "order": null,
            "_view_module_version": "1.2.0",
            "grid_template_areas": null,
            "object_position": null,
            "object_fit": null,
            "grid_auto_columns": null,
            "margin": null,
            "display": null,
            "left": null
          }
        },
        "dc3b8c71fbc849edb81c177773f3cb49": {
          "model_module": "@jupyter-widgets/controls",
          "model_name": "DescriptionStyleModel",
          "state": {
            "_view_name": "StyleView",
            "_model_name": "DescriptionStyleModel",
            "description_width": "",
            "_view_module": "@jupyter-widgets/base",
            "_model_module_version": "1.5.0",
            "_view_count": null,
            "_view_module_version": "1.2.0",
            "_model_module": "@jupyter-widgets/controls"
          }
        },
        "892fa62487e4445fac6220d3b73527a2": {
          "model_module": "@jupyter-widgets/base",
          "model_name": "LayoutModel",
          "state": {
            "_view_name": "LayoutView",
            "grid_template_rows": null,
            "right": null,
            "justify_content": null,
            "_view_module": "@jupyter-widgets/base",
            "overflow": null,
            "_model_module_version": "1.2.0",
            "_view_count": null,
            "flex_flow": null,
            "width": null,
            "min_width": null,
            "border": null,
            "align_items": null,
            "bottom": null,
            "_model_module": "@jupyter-widgets/base",
            "top": null,
            "grid_column": null,
            "overflow_y": null,
            "overflow_x": null,
            "grid_auto_flow": null,
            "grid_area": null,
            "grid_template_columns": null,
            "flex": null,
            "_model_name": "LayoutModel",
            "justify_items": null,
            "grid_row": null,
            "max_height": null,
            "align_content": null,
            "visibility": null,
            "align_self": null,
            "height": null,
            "min_height": null,
            "padding": null,
            "grid_auto_rows": null,
            "grid_gap": null,
            "max_width": null,
            "order": null,
            "_view_module_version": "1.2.0",
            "grid_template_areas": null,
            "object_position": null,
            "object_fit": null,
            "grid_auto_columns": null,
            "margin": null,
            "display": null,
            "left": null
          }
        }
      }
    }
  },
  "cells": [
    {
      "cell_type": "markdown",
      "metadata": {
        "id": "PljINmlXHPTA"
      },
      "source": [
        "# CHALLENGE 4\n",
        "\n",
        "Steps done: \n",
        "- Load the dataset\n",
        "- NLP Processing: Tokenizing, Cleaning, Normalization\n",
        "- Transform the text to tf-idf features\n",
        "- Train a baseline model (Logistic Regression)\n",
        "- Make a first submission\n",
        "- Try pre-trained model like Google Electra model and simpletransformers lib\n",
        "\n",
        "Todo list:\n",
        "- Try to augment the data with this algo: https://github.com/jasonwei20/eda_nlp"
      ]
    },
    {
      "cell_type": "markdown",
      "metadata": {
        "id": "hTU76K56D3IL"
      },
      "source": [
        "Check if we are using the GPU"
      ]
    },
    {
      "cell_type": "code",
      "metadata": {
        "id": "EafcxV96D3IL",
        "colab": {
          "base_uri": "https://localhost:8080/"
        },
        "outputId": "8b62c5a1-9941-4d56-f9bf-58f3ddbdf6b6"
      },
      "source": [
        "import tensorflow as tf\n",
        "tf.test.gpu_device_name()\n",
        "!nvcc --version"
      ],
      "execution_count": null,
      "outputs": [
        {
          "output_type": "stream",
          "text": [
            "nvcc: NVIDIA (R) Cuda compiler driver\n",
            "Copyright (c) 2005-2019 NVIDIA Corporation\n",
            "Built on Sun_Jul_28_19:07:16_PDT_2019\n",
            "Cuda compilation tools, release 10.1, V10.1.243\n"
          ],
          "name": "stdout"
        }
      ]
    },
    {
      "cell_type": "code",
      "metadata": {
        "id": "mF-xvfnwE4JY"
      },
      "source": [
        "#initialize seed to be sure that the results can be reproduced\n",
        "import numpy as np\n",
        "seed = 7\n",
        "np.random.seed(seed)"
      ],
      "execution_count": null,
      "outputs": []
    },
    {
      "cell_type": "markdown",
      "metadata": {
        "id": "67oud63gD3IM"
      },
      "source": [
        "# DATASET CLASS"
      ]
    },
    {
      "cell_type": "code",
      "metadata": {
        "id": "Z9Jl2PwkD3IM"
      },
      "source": [
        "#Load packages\n",
        "import os, sys\n",
        "import numpy as np\n",
        "import pandas as pd\n",
        "\n",
        "class Dataset:\n",
        "    \"\"\"Class for loading the dataset\"\"\"\n",
        "    def __init__(self):\n",
        "        self._currPath = os.path.dirname(os.path.abspath(\"__file__\")) #root path of the full the project\n",
        "    \n",
        "    def LoadX(self):\n",
        "        \"\"\"Load the inputs\"\"\"\n",
        "        self._listComments = pd.read_csv(self._currPath+\"/train.txt\", header=None)\n",
        "        commentsNp = np.array(self._listComments)\n",
        "        self._arrayComments = commentsNp\n",
        "    \n",
        "    def LoadY(self):\n",
        "        \"\"\"Load the outputs\"\"\"\n",
        "        self._listLabels = pd.read_csv(self._currPath+\"/train_labels.txt\", header=None)\n",
        "        labelsNp = np.array(self._listLabels)\n",
        "        self._arrayLabels = labelsNp\n",
        "      \n",
        "    def LoadKaggleTest(self):\n",
        "        \"\"\"Load the Kaggle test set\"\"\"\n",
        "        self._listCommentsTest = pd.read_csv(self._currPath+\"/test.txt\", header=None)\n",
        "        commentsTestNp = np.array(self._listCommentsTest)\n",
        "        self._arrayCommentsTest = commentsTestNp\n",
        "    \n",
        "    def GetListComments(self):\n",
        "        \"\"\"Get the list of inputs\"\"\"\n",
        "        return self._listComments\n",
        "    \n",
        "    def GetArrayComments(self):\n",
        "        \"\"\"Get the array of inputs\"\"\"\n",
        "        return self._arrayComments\n",
        "    \n",
        "    def GetListLabels(self):\n",
        "        \"\"\"Get the list of outputs\"\"\"\n",
        "        return self._listLabels\n",
        "    \n",
        "    def GetArrayLabels(self):\n",
        "        \"\"\"Get the array of outputs\"\"\"\n",
        "        return self._arrayLabels\n",
        "    \n",
        "    def GetListCommentsTest(self):\n",
        "        \"\"\"Get the Kaggle test set as a list\"\"\"\n",
        "        return self._listCommentsTest"
      ],
      "execution_count": null,
      "outputs": []
    },
    {
      "cell_type": "code",
      "metadata": {
        "id": "e4I3aLnZD3IM"
      },
      "source": [
        "def printList(li):\n",
        "    \"\"\"Display the list\"\"\"\n",
        "    print(len(li))\n",
        "    for i in range(len(li)):\n",
        "        print(li[0][i])"
      ],
      "execution_count": null,
      "outputs": []
    },
    {
      "cell_type": "code",
      "metadata": {
        "id": "MCnknJr6D3IM"
      },
      "source": [
        "dataset = Dataset()\n",
        "dataset.LoadX()\n",
        "dataset.LoadY()\n",
        "dataset.LoadKaggleTest()\n",
        "#printList(dataset.GetListComments())\n",
        "#printList(dataset.GetListLabels())"
      ],
      "execution_count": null,
      "outputs": []
    },
    {
      "cell_type": "markdown",
      "metadata": {
        "id": "Difgp4pqJCfe"
      },
      "source": [
        "# MLTRAINING MODELS"
      ]
    },
    {
      "cell_type": "markdown",
      "metadata": {
        "id": "-mQEihBaWTDQ"
      },
      "source": [
        "##Electra"
      ]
    },
    {
      "cell_type": "markdown",
      "metadata": {
        "id": "Ap5WK7NwsXk6"
      },
      "source": [
        "Transform the labels into integers, reshape the data so we can use simpletransformers and split them into train, test sets"
      ]
    },
    {
      "cell_type": "code",
      "metadata": {
        "id": "wGS0J79xx8pq",
        "colab": {
          "base_uri": "https://localhost:8080/"
        },
        "outputId": "d55e97cb-b814-47cd-d3f3-1e7bb4346e86"
      },
      "source": [
        "from sklearn import preprocessing\n",
        "from sklearn.model_selection import train_test_split\n",
        "\n",
        "encoder = preprocessing.LabelEncoder()\n",
        "X = dataset.GetArrayComments()\n",
        "Y = encoder.fit_transform(dataset.GetArrayLabels())\n",
        "Y = np.reshape(Y,(X.shape[0],1))\n",
        "X_train, X_test, y_train, y_test = train_test_split(X, Y, test_size=0.9, random_state=42)"
      ],
      "execution_count": 30,
      "outputs": [
        {
          "output_type": "stream",
          "text": [
            "/usr/local/lib/python3.6/dist-packages/sklearn/preprocessing/_label.py:251: DataConversionWarning: A column-vector y was passed when a 1d array was expected. Please change the shape of y to (n_samples, ), for example using ravel().\n",
            "  y = column_or_1d(y, warn=True)\n"
          ],
          "name": "stderr"
        }
      ]
    },
    {
      "cell_type": "markdown",
      "metadata": {
        "id": "Ww6fMY39Vq2R"
      },
      "source": [
        "Merge X_train, y_train and X_test, y_test as simpletransformers take dataframe inputs with X and Y combined"
      ]
    },
    {
      "cell_type": "code",
      "metadata": {
        "id": "jYYvXCy6sVxt"
      },
      "source": [
        "train_data = np.concatenate((X_train, y_train), axis=1)\n",
        "eval_data = np.concatenate((X_test, y_test), axis=1)\n",
        "train_df = pd.DataFrame(train_data)\n",
        "eval_df = pd.DataFrame(eval_data)"
      ],
      "execution_count": 31,
      "outputs": []
    },
    {
      "cell_type": "code",
      "metadata": {
        "id": "INl6b-BBsHQe"
      },
      "source": [
        "pip install simpletransformers"
      ],
      "execution_count": null,
      "outputs": []
    },
    {
      "cell_type": "markdown",
      "metadata": {
        "id": "47mldRi0Y0c9"
      },
      "source": [
        "Finally train Electra model using simpletransformers lib"
      ]
    },
    {
      "cell_type": "code",
      "metadata": {
        "id": "C2h-mvdkD3IN"
      },
      "source": [
        "\n",
        "from simpletransformers.classification import ClassificationModel, ClassificationArgs\n",
        "import pandas as pd\n",
        "import logging\n",
        "from tqdm import tqdm, tqdm_notebook\n",
        "tqdm.pandas()\n",
        "\n",
        "logging.basicConfig(level=logging.INFO)\n",
        "transformers_logger = logging.getLogger(\"transformers\")\n",
        "transformers_logger.setLevel(logging.WARNING)\n",
        "\n",
        "model_args = ClassificationArgs()\n",
        "model_args.reprocess_input_data: True\n",
        "model_args.num_train_epochs = 1\n",
        "model_args.learning_rate = 1e-5\n",
        "model_args.overwrite_output_dir =  True\n",
        "model_args.max_seq_length: 128\n",
        "model_args.vocab_size: 52000\n",
        "model_args.use_early_stopping = True\n",
        "model_args.early_stopping_delta = 0.01\n",
        "model_args.early_stopping_metric = \"mae\"\n",
        "model_args.early_stopping_metric_minimize = True\n",
        "model_args.early_stopping_patience = 5\n",
        "model_args.evaluate_during_training_steps = 500\n",
        "\n",
        "# Create a ClassificationModel\n",
        "model = ClassificationModel('electra', 'google/electra-base-discriminator', args=model_args) \n",
        "\n",
        "# Train the model\n",
        "model.train_model(train_df)\n"
      ],
      "execution_count": null,
      "outputs": []
    },
    {
      "cell_type": "markdown",
      "metadata": {
        "id": "NJE-UqOTZd7J"
      },
      "source": [
        "Eval the model and print the results"
      ]
    },
    {
      "cell_type": "code",
      "metadata": {
        "id": "PAhcewHGHaB3",
        "colab": {
          "base_uri": "https://localhost:8080/",
          "height": 203,
          "referenced_widgets": [
            "3d7ee80f35d34b73ae6abd429bba0723",
            "41869cdeccbc4f2e9f70becdcc78e370",
            "6f5bee7a3df841358022ba2035391511",
            "643f123e9fbf4c3c99dc7f7697d3cc34",
            "0d63f9d3e3bd46858293b540d1c99632",
            "f77d38e4b0ce40e3a0eb1eeaf026a1f2",
            "8f179d53df4242acbcad566bce281d99",
            "2f74dc5fcce44b458f4f8e802c7d2bc2",
            "ce4c3b7a2dcb4cb1bacfde25b12dddde",
            "869a5377041d4ff980ef83b186828b37",
            "a05ae55fca044e1bbb3c65936e81b474",
            "222ef9d4b73f4fe7a14e82c67de122d7",
            "141c482b906b437d837771da9922cdc7",
            "73da4b8bc7184297896762693d86176c",
            "beb6321e79424b5a89baa19922024daa",
            "1b867f9fd480488ebde6d599db12fe9f",
            "cfa8feb082344d5da7449acf02d7b9f6",
            "c5561bd91f01458babb9e357fe4bb48d",
            "f356b4e5d1db46bd9774acec3a7f75ce",
            "8c7406335ad24c39bb5525d30041dd63",
            "43c84d3c273b4d76990596b3d66e9a7e",
            "ac5f3fd53b6f4a699e8b89468f0f991d"
          ]
        },
        "outputId": "cd13c09d-84e6-4289-ead4-43263c1d9e8e"
      },
      "source": [
        "from sklearn.metrics import mean_absolute_error\n",
        "# Evaluate the model\n",
        "result, model_outputs, wrong_predictions = model.eval_model(eval_df, acc=mean_absolute_error)"
      ],
      "execution_count": 26,
      "outputs": [
        {
          "output_type": "stream",
          "text": [
            "/usr/local/lib/python3.6/dist-packages/simpletransformers/classification/classification_model.py:896: UserWarning: Dataframe headers not specified. Falling back to using column 0 as text and column 1 as labels.\n",
            "  \"Dataframe headers not specified. Falling back to using column 0 as text and column 1 as labels.\"\n",
            "INFO:simpletransformers.classification.classification_model: Converting to features started. Cache is not used.\n"
          ],
          "name": "stderr"
        },
        {
          "output_type": "display_data",
          "data": {
            "application/vnd.jupyter.widget-view+json": {
              "model_id": "3d7ee80f35d34b73ae6abd429bba0723",
              "version_minor": 0,
              "version_major": 2
            },
            "text/plain": [
              "HBox(children=(HTML(value=''), FloatProgress(value=0.0, max=1750.0), HTML(value='')))"
            ]
          },
          "metadata": {
            "tags": []
          }
        },
        {
          "output_type": "stream",
          "text": [
            "\n"
          ],
          "name": "stdout"
        },
        {
          "output_type": "display_data",
          "data": {
            "application/vnd.jupyter.widget-view+json": {
              "model_id": "222ef9d4b73f4fe7a14e82c67de122d7",
              "version_minor": 0,
              "version_major": 2
            },
            "text/plain": [
              "HBox(children=(HTML(value='Running Evaluation'), FloatProgress(value=0.0, max=219.0), HTML(value='')))"
            ]
          },
          "metadata": {
            "tags": []
          }
        },
        {
          "output_type": "stream",
          "text": [
            "INFO:simpletransformers.classification.classification_model:{'mcc': 0.8299750855531114, 'tp': 797, 'tn': 804, 'fp': 85, 'fn': 64, 'acc': 0.08514285714285715, 'eval_loss': 0.2658670340839042}\n"
          ],
          "name": "stderr"
        },
        {
          "output_type": "stream",
          "text": [
            "\n"
          ],
          "name": "stdout"
        }
      ]
    },
    {
      "cell_type": "code",
      "metadata": {
        "id": "SjHVbA8G7_kc",
        "colab": {
          "base_uri": "https://localhost:8080/"
        },
        "outputId": "a11772d5-efee-4a9f-a5e5-feffca1e0eee"
      },
      "source": [
        "from sklearn.metrics import classification_report\n",
        "\n",
        "print(model_outputs)\n",
        "predictionsTest = [x.index(max(x)) for x in model_outputs.tolist()]\n",
        "print(predictionsTest)\n",
        "print(y_test.shape)\n",
        "score = mean_absolute_error(y_test, predictionsTest)\n",
        "print(score)\n",
        "print(classification_report(y_test,predictionsTest))"
      ],
      "execution_count": 28,
      "outputs": [
        {
          "output_type": "stream",
          "text": [
            "[[ 2.48828125 -3.02148438]\n",
            " [ 2.41796875 -2.94140625]\n",
            " [-0.48608398  0.54443359]\n",
            " ...\n",
            " [ 2.25195312 -2.81835938]\n",
            " [ 2.68164062 -3.29296875]\n",
            " [-0.73291016  0.82519531]]\n",
            "[0, 0, 1, 1, 1, 0, 1, 0, 1, 0, 0, 1, 1, 0, 1, 1, 0, 0, 1, 1, 0, 0, 0, 0, 0, 0, 1, 0, 0, 0, 1, 0, 0, 1, 0, 1, 0, 1, 0, 0, 0, 1, 1, 0, 0, 0, 1, 0, 1, 0, 0, 0, 0, 1, 1, 0, 1, 1, 0, 0, 0, 0, 0, 0, 1, 1, 0, 0, 1, 1, 0, 1, 1, 0, 1, 1, 1, 1, 1, 0, 0, 0, 0, 1, 0, 1, 0, 0, 1, 0, 1, 0, 1, 1, 0, 0, 1, 0, 1, 0, 0, 0, 1, 1, 1, 1, 0, 1, 1, 0, 0, 1, 0, 0, 0, 0, 1, 1, 1, 1, 1, 1, 0, 0, 1, 0, 1, 1, 0, 1, 1, 1, 1, 0, 1, 0, 1, 1, 1, 1, 0, 1, 1, 0, 1, 1, 1, 0, 1, 0, 1, 1, 0, 0, 0, 0, 1, 1, 0, 0, 1, 1, 1, 0, 1, 0, 1, 0, 0, 0, 0, 0, 0, 1, 1, 1, 1, 0, 0, 1, 0, 0, 1, 1, 1, 1, 0, 1, 0, 0, 1, 0, 1, 1, 1, 1, 1, 0, 0, 0, 1, 0, 1, 1, 1, 0, 1, 1, 0, 0, 0, 0, 0, 0, 1, 0, 1, 0, 1, 0, 1, 0, 1, 0, 0, 0, 0, 0, 1, 1, 1, 0, 0, 0, 1, 1, 1, 1, 0, 0, 0, 0, 1, 1, 0, 1, 0, 0, 1, 1, 0, 1, 1, 1, 0, 0, 1, 0, 0, 0, 0, 1, 1, 1, 1, 0, 1, 1, 1, 1, 1, 1, 1, 0, 0, 1, 1, 1, 0, 1, 0, 0, 1, 1, 1, 0, 0, 1, 0, 1, 1, 0, 0, 0, 0, 0, 1, 0, 1, 1, 0, 1, 1, 1, 0, 0, 0, 0, 1, 0, 1, 0, 1, 0, 1, 1, 0, 1, 0, 1, 1, 1, 1, 0, 0, 0, 1, 1, 1, 0, 0, 1, 0, 0, 1, 0, 0, 1, 0, 1, 1, 1, 0, 0, 0, 1, 1, 0, 0, 1, 0, 0, 0, 1, 0, 0, 0, 1, 1, 1, 1, 1, 1, 1, 0, 1, 0, 1, 0, 0, 0, 0, 1, 1, 1, 0, 0, 1, 0, 0, 1, 0, 0, 1, 1, 1, 0, 0, 1, 1, 0, 1, 1, 0, 0, 1, 0, 0, 1, 0, 1, 0, 0, 0, 0, 1, 0, 1, 0, 0, 0, 0, 0, 1, 0, 1, 0, 0, 1, 1, 1, 0, 1, 1, 1, 1, 0, 0, 0, 0, 1, 1, 1, 0, 0, 0, 0, 0, 1, 1, 0, 1, 0, 0, 1, 1, 0, 0, 0, 0, 0, 1, 1, 0, 1, 0, 0, 0, 1, 1, 0, 0, 0, 0, 1, 1, 1, 0, 0, 1, 1, 0, 1, 0, 1, 0, 0, 1, 0, 0, 1, 1, 1, 0, 1, 0, 0, 1, 1, 1, 0, 0, 1, 0, 1, 1, 1, 1, 1, 0, 1, 0, 1, 0, 1, 1, 0, 1, 0, 1, 1, 0, 0, 0, 0, 1, 0, 1, 1, 0, 1, 0, 0, 1, 0, 1, 0, 0, 1, 0, 1, 1, 0, 1, 1, 0, 0, 0, 0, 1, 0, 0, 0, 0, 1, 0, 0, 1, 1, 0, 0, 0, 1, 0, 1, 0, 1, 0, 0, 1, 1, 1, 0, 0, 1, 0, 0, 0, 0, 0, 1, 1, 1, 0, 0, 0, 0, 0, 0, 1, 0, 1, 1, 1, 1, 1, 1, 0, 0, 0, 0, 1, 1, 0, 0, 0, 0, 1, 1, 0, 0, 1, 0, 1, 0, 0, 1, 1, 0, 1, 1, 1, 1, 1, 0, 0, 0, 1, 1, 1, 0, 0, 1, 0, 1, 1, 0, 0, 0, 1, 1, 0, 1, 1, 1, 1, 0, 0, 1, 0, 1, 1, 0, 0, 1, 1, 1, 0, 1, 0, 0, 0, 0, 0, 1, 1, 1, 0, 0, 0, 0, 1, 1, 0, 0, 0, 0, 1, 1, 0, 1, 0, 1, 0, 1, 0, 0, 1, 1, 0, 1, 1, 0, 0, 0, 1, 1, 0, 0, 0, 0, 0, 0, 0, 1, 0, 1, 1, 0, 1, 1, 0, 0, 0, 0, 0, 1, 0, 1, 1, 0, 0, 1, 1, 1, 0, 0, 1, 0, 0, 1, 1, 1, 0, 1, 0, 0, 0, 1, 1, 0, 1, 0, 1, 0, 0, 1, 0, 0, 0, 1, 0, 0, 1, 0, 0, 0, 1, 1, 1, 0, 1, 1, 1, 1, 1, 0, 1, 0, 0, 1, 0, 1, 0, 1, 1, 1, 1, 0, 1, 1, 1, 1, 0, 1, 0, 0, 1, 1, 1, 1, 0, 0, 0, 1, 1, 1, 1, 0, 1, 1, 0, 0, 0, 1, 0, 1, 0, 0, 1, 0, 1, 1, 0, 1, 0, 1, 0, 1, 0, 1, 1, 1, 0, 1, 0, 0, 0, 1, 0, 0, 0, 0, 1, 0, 0, 0, 1, 0, 0, 0, 0, 1, 1, 1, 0, 1, 0, 0, 0, 0, 0, 1, 1, 1, 0, 1, 0, 1, 1, 0, 0, 0, 1, 1, 1, 1, 0, 1, 1, 0, 0, 1, 0, 1, 1, 1, 1, 1, 0, 0, 1, 0, 1, 0, 1, 1, 0, 0, 0, 0, 0, 0, 0, 0, 1, 1, 0, 0, 1, 0, 0, 0, 0, 1, 1, 1, 1, 1, 1, 0, 1, 1, 1, 1, 0, 1, 1, 1, 1, 0, 0, 1, 1, 0, 1, 1, 0, 0, 0, 0, 0, 1, 0, 1, 0, 0, 0, 0, 1, 1, 0, 0, 1, 1, 0, 1, 1, 0, 0, 0, 1, 0, 0, 0, 1, 1, 0, 0, 1, 0, 0, 1, 0, 0, 0, 1, 0, 0, 1, 1, 0, 1, 1, 1, 0, 0, 0, 1, 1, 0, 0, 0, 0, 1, 0, 0, 0, 1, 1, 1, 0, 0, 0, 1, 1, 0, 0, 0, 1, 1, 1, 1, 1, 1, 0, 0, 1, 0, 1, 1, 0, 0, 1, 0, 1, 1, 1, 1, 0, 0, 1, 0, 0, 0, 1, 1, 0, 1, 0, 0, 1, 0, 0, 1, 0, 1, 0, 0, 1, 0, 1, 0, 0, 1, 1, 1, 1, 0, 0, 1, 0, 1, 0, 1, 1, 0, 1, 1, 0, 0, 0, 0, 0, 1, 0, 0, 0, 1, 1, 1, 0, 1, 1, 0, 0, 0, 0, 0, 0, 0, 0, 0, 0, 0, 0, 0, 0, 1, 0, 0, 1, 0, 0, 0, 0, 0, 0, 0, 0, 1, 1, 1, 0, 0, 0, 0, 1, 1, 0, 1, 0, 1, 0, 1, 0, 0, 1, 0, 0, 0, 1, 1, 1, 0, 0, 1, 0, 1, 0, 1, 1, 1, 0, 1, 0, 0, 0, 1, 1, 0, 0, 0, 1, 0, 1, 1, 0, 1, 1, 0, 1, 1, 1, 1, 1, 1, 1, 0, 0, 1, 0, 1, 1, 1, 0, 1, 1, 0, 1, 1, 0, 0, 0, 1, 1, 0, 0, 0, 0, 0, 1, 1, 0, 0, 1, 1, 1, 0, 0, 1, 1, 1, 1, 1, 1, 1, 1, 1, 1, 0, 1, 0, 1, 1, 1, 0, 1, 0, 1, 1, 1, 0, 0, 1, 0, 1, 1, 1, 0, 0, 1, 0, 1, 0, 1, 0, 1, 0, 1, 0, 1, 0, 1, 1, 1, 1, 0, 1, 0, 1, 0, 0, 1, 1, 0, 1, 1, 0, 1, 0, 1, 0, 0, 0, 0, 1, 1, 1, 1, 0, 1, 1, 0, 1, 0, 0, 0, 1, 1, 1, 0, 1, 0, 1, 1, 1, 0, 1, 1, 1, 1, 0, 1, 0, 1, 0, 1, 0, 0, 0, 0, 0, 1, 1, 1, 0, 1, 0, 1, 1, 0, 1, 1, 1, 0, 1, 1, 0, 0, 1, 0, 0, 1, 0, 1, 0, 1, 0, 0, 0, 0, 0, 1, 0, 0, 1, 0, 1, 0, 0, 0, 0, 1, 1, 0, 0, 0, 1, 0, 1, 0, 0, 0, 1, 1, 0, 1, 1, 0, 0, 1, 1, 1, 1, 1, 1, 1, 1, 0, 0, 1, 0, 1, 0, 1, 1, 0, 0, 0, 0, 0, 0, 1, 0, 0, 1, 1, 1, 1, 0, 1, 1, 1, 0, 0, 0, 1, 1, 0, 1, 0, 0, 1, 0, 0, 1, 1, 1, 1, 1, 1, 0, 1, 1, 1, 1, 0, 1, 1, 1, 0, 1, 0, 1, 0, 0, 1, 1, 0, 1, 0, 1, 1, 1, 0, 0, 0, 1, 1, 1, 0, 1, 0, 1, 1, 0, 1, 0, 0, 1, 1, 0, 1, 1, 0, 0, 1, 0, 1, 0, 0, 1, 0, 1, 0, 1, 1, 0, 1, 0, 1, 0, 1, 0, 1, 0, 1, 0, 1, 0, 1, 1, 1, 1, 1, 1, 0, 1, 0, 0, 1, 0, 0, 1, 1, 0, 1, 0, 1, 1, 1, 0, 0, 0, 1, 1, 0, 0, 1, 1, 0, 1, 1, 1, 1, 1, 0, 0, 0, 0, 0, 1, 1, 1, 0, 1, 1, 1, 0, 1, 0, 1, 1, 1, 1, 1, 0, 1, 0, 0, 1, 0, 1, 1, 1, 1, 1, 1, 0, 0, 1, 0, 1, 0, 1, 0, 0, 1, 0, 0, 1, 1, 1, 0, 1, 1, 0, 1, 0, 0, 0, 1, 1, 0, 1, 0, 1, 0, 1, 1, 0, 0, 0, 0, 0, 1, 0, 0, 1, 0, 0, 1, 0, 1, 0, 0, 1, 0, 0, 1, 1, 0, 1, 0, 1, 0, 0, 1, 1, 1, 1, 1, 0, 1, 1, 0, 1, 1, 0, 0, 0, 0, 0, 1, 0, 1, 0, 1, 1, 1, 0, 0, 1, 0, 0, 1, 0, 1, 1, 0, 1, 0, 0, 0, 0, 1, 1, 1, 1, 0, 1, 0, 1, 1, 1, 1, 1, 0, 1, 0, 1, 1, 1, 1, 1, 0, 0, 0, 1, 1, 1, 1, 0, 1, 1, 0, 1, 1, 0, 0, 1, 0, 1, 1, 0, 1, 1, 1, 1, 0, 1, 1, 0, 1, 1, 1, 0, 0, 1, 0, 1, 0, 0, 1, 0, 1, 1, 1, 0, 1, 0, 1, 1, 1, 1, 0, 1, 1, 1, 0, 0, 0, 0, 1, 1, 0, 1, 0, 1, 1, 1, 1, 1, 1, 1, 1, 1, 1, 0, 1, 0, 0, 0, 0, 1, 1, 0, 0, 1, 1, 0, 0, 1, 0, 1, 0, 1, 0, 1, 1, 1, 1, 0, 0, 1, 1, 0, 0, 1]\n",
            "(1750, 1)\n",
            "0.08514285714285715\n",
            "              precision    recall  f1-score   support\n",
            "\n",
            "           0       0.93      0.90      0.92       889\n",
            "           1       0.90      0.93      0.91       861\n",
            "\n",
            "    accuracy                           0.91      1750\n",
            "   macro avg       0.91      0.92      0.91      1750\n",
            "weighted avg       0.92      0.91      0.91      1750\n",
            "\n"
          ],
          "name": "stdout"
        }
      ]
    },
    {
      "cell_type": "markdown",
      "metadata": {
        "id": "qJqpCk1uZoba"
      },
      "source": [
        "Predict on the Kaggle test set"
      ]
    },
    {
      "cell_type": "code",
      "metadata": {
        "id": "EjjUBG7DLPnu",
        "colab": {
          "base_uri": "https://localhost:8080/",
          "height": 271,
          "referenced_widgets": [
            "c05ae85dc5d449d08da2f8d63e171219",
            "ada884d753c14d08a51e9757af0f99dd",
            "6dc5ffcd880942258d3ac4b41ffb569d",
            "53b954f0d91c44bf9e0b6e9c920a9d18",
            "70b1a0b9765c4f00a97badb9742d364e",
            "11a0705473584ece9507ff8f98319b3b",
            "cc7bb12bd33e4c8e9d0b7cb8d8430ed3",
            "cb7a3f3ad7b34a9bb46f83a85cf79af9",
            "9cf8ac882453479a8f6ddad58d0acee0",
            "609dcc6fd9d84cf39df87965b313e6b7",
            "451ef500e8714fbea0da23c3f89c6d0c",
            "4dbdce3f29624e4e897cd1882ad322c6",
            "cd7b55049556452ea4b849dc9ad8be0d",
            "bbbd0025540141d1bedd0dab9adcbe3a",
            "9e613e8c002e43de90121763813e1d71",
            "0f7a0e37db3f44ba97abfa6f14babb9c",
            "2b263f24e6bf4730809372fa9d8a8d32",
            "0968091508384effb3959320ee2b0349",
            "fe1706e98df04d26aae067990cc75143",
            "998f8d37964d42ef8b53a2d92753766f",
            "dc3b8c71fbc849edb81c177773f3cb49",
            "892fa62487e4445fac6220d3b73527a2"
          ]
        },
        "outputId": "b9274562-63d4-4c1f-f8e7-73667cdbe42e"
      },
      "source": [
        "testKaggle = dataset.GetListCommentsTest()\n",
        "testKaggle = np.array(testKaggle)\n",
        "testKaggle = np.reshape(testKaggle,testKaggle.shape[0])\n",
        "print(testKaggle)\n",
        "predictions, raw_outputs = model.predict(testKaggle)"
      ],
      "execution_count": 34,
      "outputs": [
        {
          "output_type": "stream",
          "text": [
            "INFO:simpletransformers.classification.classification_model: Converting to features started. Cache is not used.\n"
          ],
          "name": "stderr"
        },
        {
          "output_type": "stream",
          "text": [
            "['one reason pixar has endured so well  and been so successful  is that while their films remain technical marvels and visual mosaics  they have a story to match their style . and often very moving style at that affecting  charming and cross  generational . that a lot anime  speaking in broad terms  and a great many other animations fail to match their technical virtuosity with real substance is  i think  and i might be wrong  partly because either the makers aren  t bothered with character and plot and focus far too much on sound and image  or the sheer effort that goes into making some animations is so enormous  so enervating that they don  t have the energy to create a really engaging story .  br    br   that same cannot be said of renaissance . there are flaws in its plot  but i  ll get to that later . those same flaws  however  are not reflected in the visuals  renaissance is nowt short of stunning . the ultra  high contrast images  sometimes so high  contrast that is nothing but one face or one beam of light visible  and incredible detail are always impressive  always a joy to behold . the futuristic paris on display is the grim offspring of blade runner and brave new world dark  murky  quite affluent and even clean  but shrouded in intrigue  corporate malfeasance  obsessed with beauty  capital of the catwalk  after all  and disguising the squalor and neglect of its labyrinthine passages with a veneer of monumental  sophisticated architecture .  br    br   it  s a compelling environment  not entirely original  but great all the same . the film  s much  touted  motion  capture  technology and incredible attention to human and design minutiae result in images a black  and  white photographer would die for . not that the detail prevents entertainment  because christian volckman crafts some superb action sequences a hell  for  leather care chase  a couple of gruesome  ly imaginative  murders  several tussles in the dark and a nasty dust  up in a gloomy apartment . the locations are great  too  i want to visit the nightclub  . while the central character of karas is your regular off  the  shelf maverick cop  the other two female characters  who are sisters  are the real motors of the movie . coming from war  torn eastern europe  products of a war  diaspora and a family spat  they  re a compelling metaphor for europe as a whole .  br    br   the film is tremendously atmospheric  its dizzying  swooping faux  camera moves and adult tone making for a very engaging experience . however  the plot . . . it never becomes more interesting than the initial hook  in which indefatigable plod karas must find ilona tasuiev  a drop  dead gorgeous and pioneering scientist  after she  s snatched from the street . the sinister corporation avalon  is any corporation ever not sinister    which she was working for on  classified   projects are hell  bent on her retrieval  and soon karas is up to his neck in official reprimands  dead bodies  cigarette  smoke and narrowly  missed bullets  and falling in love with ilona  s sister bislane  very sympathetically voiced by catherine mccormack   as he plumbs the depths of the city  s sordid underbelly  and his own past  .  br    br   text  book noir  in other words  but while i enjoyed the film a lot more than sin city  to which it bears a passing visual resemblance   the plot and resolution are dull  the theme of immortality being raised but never examined  and the shenanigans of high  rolling avalon ceo paul dellenbach are also dull  undercutting a lot of the dramatic tension . the basic ideas are familiar sci  fi genre materials  and there  s a nagging sense that the visuals and atmosphere are disguising the mundane material .  br    br   however  the film as a whole is lucid and perfectly coherent  even if some of the scenarios the characters get into occasionally feel like excuses for displays of technical wizardry . but it  s the projection of life in paris circa      the vision of community and creation of another city from the ground up that makes this film something to behold . i may be taking it too seriously  and if that  s the case i can at least say that it  s superbly made  extremely entertaining  and pretty mature  too   and with an ambiance like no other .   '\n",
            " 'i saw the film and i got screwed  because the film was foolish and boring . i thought ram gopal varma will justify his work but unfortunately he failed and the whole film got spoiled and they spoiled  sholay  . the cast and crew was bad . the whole theater slept while watching the movie some people ran away in the middle . amithab bachan  s acting is poor  i thought this movie will be greatest hit of the year but this film will be the greatest flop of the year  sure . nobody did justice to their work  including ajay devagan . this film don  t deserve any audiences . i bet that this film will flop .  br    br    finally this movie sucks    '\n",
            " 'a scanner darkly  minority report  blade runner  sin city and sky captain and the world of tomorrow  if you are a fan of any of these then this will be well worth checking out .  br    br   french animation project  renaissance  took seven years to make on a shoestring budget and tonight i finally got to see it at a private screening for the international film festival in stockholm . my spontaneous reaction is awe my further reflection is  huh  neat  and closer analysis regrettably gets a resounding  meh  . it is a gorgeous science fiction triumph on the surface  but scratch it or even poke it a little and its unnecessarily complex plot becomes glaringly apparent  as do the flat characters .  br    br   nevertheless it is clear that the people at onyx films have done something spectacular with the aforementioned surface . the visuals are staggering . they have used live action motion capture fitted into key  frame animation  with stark jet black and bright white contrasts and a heavily shadowed rotoscoped background . for those of you who are not down with the  technical lingo   the film looks like a fully  animated sin city . its fluid  transparent  dark and stylized template is complemented by great lurid lightning . it  s a vision . yet much credit is also due to the crisp sound effects that take the form of humming futuristic weapons  suspenseful music  heavy raindrops and glass shards breaking . it  s every tech  nerd  s wet dream . . .  br    br   the film zooms in on an eerily  lit  bleak  futurescape paris in which a major corporation called  avalon  has begun to interweave in the lives of the citizens with surveillance  think the fluid transparent screens from minority report  and genetic engineering . the latter leads to a mysterious kidnapping of young researcher ilona  voiced by the lovely romola garai  . cut to our hard  boiled cop  on  suspension and protagonist karas  daniel craig   a man who takes the law into his own hands  who is assigned the case of finding and retrieving ilona . during this case  he is being aided by illona  s sister with whom he also begins a love affair . a very half  assed love affair  if i may say so .  br    br   the world of renaissance is remarkable . director christian volckman takes a fair jab at melting the noir themes and the result is an urban jungle filled with cads  rats  femme fatales and lonely detectives that hide in the shadows of the seedy slum . the problem is that the creators undoubtedly felt the need to have extremely clear and spelled  out archetypes in the story  or the film would have been  too surreal  for mainstream audiences  owing to its lurid animation format . it follows then that we have a multitude of clichd characters such as evil  laughing villains  sleazy crime bosses and butch tough  chicks who blow smoke every chance they get . it shoves noir in our faces  and it isn  t necessary .  br    br   what is worse is that the dialogue is a little contrived . it seems as though every line exists for the sole reason of propelling the plot . this is nothing fatal because the plot is so complex once it gets going that it needs some clear direction . daniel craig helps here too by bringing a no  nonsense attitude to his hard  edged cop character . at one point in renaissance  he is seen in a vivid car  chase that surely is one of the most adrenaline  pumping and top notch sequences of the film . unfortunately  the novelty of the sci  fi visuals have worn off post this car chase and  renassaince  could benefit from being slightly shorter . in summary  a very interesting but flawed futuristic comic book experience .  br    br    out of     '\n",
            " ...\n",
            " 'working  class romantic drama from director martin ritt is as unbelievable as they come  yet there are moments of pleasure due mostly to the charisma of stars jane fonda and robert de niro  both terrific  . she  s a widow who can  t move on  he  s illiterate and a closet  inventor   you can probably guess the rest . adaptation of pat barker  s novel  union street   a better title   is so laid  back it verges on bland  and the film  s editing is a mess  but it  s still pleasant a rosy  hued blue  collar fantasy . there are no overtures to serious issues  even the illiteracy angle is just a plot  tool for the ensuing love story  and no real fireworks  though the characters are intentionally a bit colorless and the leads are toned down to an interesting degree . the finale is pure fluff   and cynics will find it difficult to swallow   though these two characters deserve a happy ending and the picture wouldn  t really be satisfying any other way .  from    '\n",
            " 'this is one of the dumbest films  i  ve ever seen . it rips off nearly ever type of thriller and manages to make a mess of them all .  br    br   there  s not a single good line or character in the whole mess . if there was a plot  it was an afterthought and as far as acting goes  there  s nothing good to say so ill say nothing . i honestly cant understand how this type of nonsense gets produced and actually released  does somebody somewhere not at some stage think   oh my god this really is a load of shite  and call it a day . its crap like this that has people downloading illegally  the trailer looks like a completely different film  at least if you have download it  you haven  t wasted your time or money don  t waste your time  this is painful .   '\n",
            " \"this movie is a bad one. i don't advise you to see it. the actors were awful. \"]\n"
          ],
          "name": "stdout"
        },
        {
          "output_type": "display_data",
          "data": {
            "application/vnd.jupyter.widget-view+json": {
              "model_id": "c05ae85dc5d449d08da2f8d63e171219",
              "version_minor": 0,
              "version_major": 2
            },
            "text/plain": [
              "HBox(children=(HTML(value=''), FloatProgress(value=0.0, max=7501.0), HTML(value='')))"
            ]
          },
          "metadata": {
            "tags": []
          }
        },
        {
          "output_type": "stream",
          "text": [
            "\n"
          ],
          "name": "stdout"
        },
        {
          "output_type": "display_data",
          "data": {
            "application/vnd.jupyter.widget-view+json": {
              "model_id": "4dbdce3f29624e4e897cd1882ad322c6",
              "version_minor": 0,
              "version_major": 2
            },
            "text/plain": [
              "HBox(children=(HTML(value=''), FloatProgress(value=0.0, max=938.0), HTML(value='')))"
            ]
          },
          "metadata": {
            "tags": []
          }
        },
        {
          "output_type": "stream",
          "text": [
            "\n"
          ],
          "name": "stdout"
        }
      ]
    },
    {
      "cell_type": "code",
      "metadata": {
        "id": "jUM9zyKMM7ds",
        "colab": {
          "base_uri": "https://localhost:8080/"
        },
        "outputId": "f0118399-9222-4406-f76a-cfe0d28b44e9"
      },
      "source": [
        "print(predictions.shape)\n",
        "np.savetxt(\"preds7.csv\", predictions, delimiter=\",\",fmt='%s')"
      ],
      "execution_count": 35,
      "outputs": [
        {
          "output_type": "stream",
          "text": [
            "(7501,)\n"
          ],
          "name": "stdout"
        }
      ]
    }
  ]
}