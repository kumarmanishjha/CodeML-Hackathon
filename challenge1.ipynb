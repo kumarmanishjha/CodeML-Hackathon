{
 "cells": [
  {
   "cell_type": "code",
   "execution_count": 1,
   "metadata": {},
   "outputs": [],
   "source": [
    "import pandas as pd\n",
    "import numpy as np\n",
    "import seaborn as sns\n",
    "import numpy as np\n",
    "import itertools\n",
    "import matplotlib.pyplot as plt\n",
    "%matplotlib inline\n",
    "import matplotlib as mpl\n",
    "from sklearn.mixture import GaussianMixture"
   ]
  },
  {
   "cell_type": "code",
   "execution_count": 2,
   "metadata": {},
   "outputs": [],
   "source": [
    "df = pd.read_csv('./codeml-challenge1/train.csv')"
   ]
  },
  {
   "cell_type": "code",
   "execution_count": 3,
   "metadata": {},
   "outputs": [
    {
     "data": {
      "text/html": [
       "<div>\n",
       "<style scoped>\n",
       "    .dataframe tbody tr th:only-of-type {\n",
       "        vertical-align: middle;\n",
       "    }\n",
       "\n",
       "    .dataframe tbody tr th {\n",
       "        vertical-align: top;\n",
       "    }\n",
       "\n",
       "    .dataframe thead th {\n",
       "        text-align: right;\n",
       "    }\n",
       "</style>\n",
       "<table border=\"1\" class=\"dataframe\">\n",
       "  <thead>\n",
       "    <tr style=\"text-align: right;\">\n",
       "      <th></th>\n",
       "      <th>id</th>\n",
       "      <th>x</th>\n",
       "      <th>y</th>\n",
       "      <th>z</th>\n",
       "      <th>luminosity</th>\n",
       "      <th>mass</th>\n",
       "      <th>helium_ppm</th>\n",
       "    </tr>\n",
       "  </thead>\n",
       "  <tbody>\n",
       "    <tr>\n",
       "      <th>0</th>\n",
       "      <td>0</td>\n",
       "      <td>-71.007375</td>\n",
       "      <td>100.774323</td>\n",
       "      <td>-8.198832</td>\n",
       "      <td>67.562893</td>\n",
       "      <td>2548.034961</td>\n",
       "      <td>212353.541019</td>\n",
       "    </tr>\n",
       "    <tr>\n",
       "      <th>1</th>\n",
       "      <td>1</td>\n",
       "      <td>-74.925552</td>\n",
       "      <td>91.874221</td>\n",
       "      <td>-25.823766</td>\n",
       "      <td>50.584089</td>\n",
       "      <td>633.776097</td>\n",
       "      <td>227226.007527</td>\n",
       "    </tr>\n",
       "    <tr>\n",
       "      <th>2</th>\n",
       "      <td>2</td>\n",
       "      <td>-100.302987</td>\n",
       "      <td>64.899237</td>\n",
       "      <td>-71.434851</td>\n",
       "      <td>50.786286</td>\n",
       "      <td>793.732911</td>\n",
       "      <td>240853.217456</td>\n",
       "    </tr>\n",
       "    <tr>\n",
       "      <th>3</th>\n",
       "      <td>3</td>\n",
       "      <td>-52.174400</td>\n",
       "      <td>55.024314</td>\n",
       "      <td>-24.166729</td>\n",
       "      <td>32.247787</td>\n",
       "      <td>921.451802</td>\n",
       "      <td>251411.349973</td>\n",
       "    </tr>\n",
       "    <tr>\n",
       "      <th>4</th>\n",
       "      <td>4</td>\n",
       "      <td>35.268677</td>\n",
       "      <td>-17.670359</td>\n",
       "      <td>67.339614</td>\n",
       "      <td>57.656351</td>\n",
       "      <td>1773.264514</td>\n",
       "      <td>229077.364655</td>\n",
       "    </tr>\n",
       "  </tbody>\n",
       "</table>\n",
       "</div>"
      ],
      "text/plain": [
       "   id           x           y          z  luminosity         mass  \\\n",
       "0   0  -71.007375  100.774323  -8.198832   67.562893  2548.034961   \n",
       "1   1  -74.925552   91.874221 -25.823766   50.584089   633.776097   \n",
       "2   2 -100.302987   64.899237 -71.434851   50.786286   793.732911   \n",
       "3   3  -52.174400   55.024314 -24.166729   32.247787   921.451802   \n",
       "4   4   35.268677  -17.670359  67.339614   57.656351  1773.264514   \n",
       "\n",
       "      helium_ppm  \n",
       "0  212353.541019  \n",
       "1  227226.007527  \n",
       "2  240853.217456  \n",
       "3  251411.349973  \n",
       "4  229077.364655  "
      ]
     },
     "execution_count": 3,
     "metadata": {},
     "output_type": "execute_result"
    }
   ],
   "source": [
    "df.head()"
   ]
  },
  {
   "cell_type": "code",
   "execution_count": 4,
   "metadata": {},
   "outputs": [
    {
     "name": "stdout",
     "output_type": "stream",
     "text": [
      "<class 'pandas.core.frame.DataFrame'>\n",
      "RangeIndex: 1000 entries, 0 to 999\n",
      "Data columns (total 7 columns):\n",
      " #   Column      Non-Null Count  Dtype  \n",
      "---  ------      --------------  -----  \n",
      " 0   id          1000 non-null   int64  \n",
      " 1   x           1000 non-null   float64\n",
      " 2   y           1000 non-null   float64\n",
      " 3   z           1000 non-null   float64\n",
      " 4   luminosity  1000 non-null   float64\n",
      " 5   mass        1000 non-null   float64\n",
      " 6   helium_ppm  1000 non-null   float64\n",
      "dtypes: float64(6), int64(1)\n",
      "memory usage: 54.8 KB\n"
     ]
    }
   ],
   "source": [
    "df.info()"
   ]
  },
  {
   "cell_type": "code",
   "execution_count": 5,
   "metadata": {},
   "outputs": [
    {
     "data": {
      "text/html": [
       "<div>\n",
       "<style scoped>\n",
       "    .dataframe tbody tr th:only-of-type {\n",
       "        vertical-align: middle;\n",
       "    }\n",
       "\n",
       "    .dataframe tbody tr th {\n",
       "        vertical-align: top;\n",
       "    }\n",
       "\n",
       "    .dataframe thead th {\n",
       "        text-align: right;\n",
       "    }\n",
       "</style>\n",
       "<table border=\"1\" class=\"dataframe\">\n",
       "  <thead>\n",
       "    <tr style=\"text-align: right;\">\n",
       "      <th></th>\n",
       "      <th>id</th>\n",
       "      <th>x</th>\n",
       "      <th>y</th>\n",
       "      <th>z</th>\n",
       "      <th>luminosity</th>\n",
       "      <th>mass</th>\n",
       "      <th>helium_ppm</th>\n",
       "    </tr>\n",
       "  </thead>\n",
       "  <tbody>\n",
       "    <tr>\n",
       "      <th>count</th>\n",
       "      <td>1000.000000</td>\n",
       "      <td>1000.000000</td>\n",
       "      <td>1000.000000</td>\n",
       "      <td>1000.000000</td>\n",
       "      <td>1000.000000</td>\n",
       "      <td>1000.000000</td>\n",
       "      <td>1000.000000</td>\n",
       "    </tr>\n",
       "    <tr>\n",
       "      <th>mean</th>\n",
       "      <td>499.500000</td>\n",
       "      <td>-7.058864</td>\n",
       "      <td>6.066592</td>\n",
       "      <td>12.193857</td>\n",
       "      <td>39.453575</td>\n",
       "      <td>970.687249</td>\n",
       "      <td>239511.832989</td>\n",
       "    </tr>\n",
       "    <tr>\n",
       "      <th>std</th>\n",
       "      <td>288.819436</td>\n",
       "      <td>49.241944</td>\n",
       "      <td>55.945002</td>\n",
       "      <td>59.175234</td>\n",
       "      <td>29.771364</td>\n",
       "      <td>942.797736</td>\n",
       "      <td>13830.787944</td>\n",
       "    </tr>\n",
       "    <tr>\n",
       "      <th>min</th>\n",
       "      <td>0.000000</td>\n",
       "      <td>-100.302987</td>\n",
       "      <td>-101.630165</td>\n",
       "      <td>-123.953059</td>\n",
       "      <td>0.101355</td>\n",
       "      <td>0.634248</td>\n",
       "      <td>198596.945694</td>\n",
       "    </tr>\n",
       "    <tr>\n",
       "      <th>25%</th>\n",
       "      <td>249.750000</td>\n",
       "      <td>-46.458804</td>\n",
       "      <td>-40.044415</td>\n",
       "      <td>-32.925600</td>\n",
       "      <td>15.004428</td>\n",
       "      <td>309.585132</td>\n",
       "      <td>229073.415198</td>\n",
       "    </tr>\n",
       "    <tr>\n",
       "      <th>50%</th>\n",
       "      <td>499.500000</td>\n",
       "      <td>-6.145698</td>\n",
       "      <td>5.541455</td>\n",
       "      <td>12.132695</td>\n",
       "      <td>33.222631</td>\n",
       "      <td>665.498533</td>\n",
       "      <td>239586.759928</td>\n",
       "    </tr>\n",
       "    <tr>\n",
       "      <th>75%</th>\n",
       "      <td>749.250000</td>\n",
       "      <td>31.103954</td>\n",
       "      <td>50.947960</td>\n",
       "      <td>57.716125</td>\n",
       "      <td>57.748896</td>\n",
       "      <td>1352.623313</td>\n",
       "      <td>249639.060533</td>\n",
       "    </tr>\n",
       "    <tr>\n",
       "      <th>max</th>\n",
       "      <td>999.000000</td>\n",
       "      <td>89.821312</td>\n",
       "      <td>114.926626</td>\n",
       "      <td>151.185988</td>\n",
       "      <td>174.593847</td>\n",
       "      <td>6344.531998</td>\n",
       "      <td>282693.103742</td>\n",
       "    </tr>\n",
       "  </tbody>\n",
       "</table>\n",
       "</div>"
      ],
      "text/plain": [
       "                id            x            y            z   luminosity  \\\n",
       "count  1000.000000  1000.000000  1000.000000  1000.000000  1000.000000   \n",
       "mean    499.500000    -7.058864     6.066592    12.193857    39.453575   \n",
       "std     288.819436    49.241944    55.945002    59.175234    29.771364   \n",
       "min       0.000000  -100.302987  -101.630165  -123.953059     0.101355   \n",
       "25%     249.750000   -46.458804   -40.044415   -32.925600    15.004428   \n",
       "50%     499.500000    -6.145698     5.541455    12.132695    33.222631   \n",
       "75%     749.250000    31.103954    50.947960    57.716125    57.748896   \n",
       "max     999.000000    89.821312   114.926626   151.185988   174.593847   \n",
       "\n",
       "              mass     helium_ppm  \n",
       "count  1000.000000    1000.000000  \n",
       "mean    970.687249  239511.832989  \n",
       "std     942.797736   13830.787944  \n",
       "min       0.634248  198596.945694  \n",
       "25%     309.585132  229073.415198  \n",
       "50%     665.498533  239586.759928  \n",
       "75%    1352.623313  249639.060533  \n",
       "max    6344.531998  282693.103742  "
      ]
     },
     "execution_count": 5,
     "metadata": {},
     "output_type": "execute_result"
    }
   ],
   "source": [
    "df.describe()"
   ]
  },
  {
   "cell_type": "code",
   "execution_count": 6,
   "metadata": {},
   "outputs": [
    {
     "name": "stdout",
     "output_type": "stream",
     "text": [
      "                  id         x         y         z  luminosity      mass  \\\n",
      "id          1.000000  0.025973  0.002025  0.034241    0.022128  0.007310   \n",
      "x           0.025973  1.000000 -0.595487  0.749383   -0.025646  0.016843   \n",
      "y           0.002025 -0.595487  1.000000  0.066156    0.047803 -0.030708   \n",
      "z           0.034241  0.749383  0.066156  1.000000    0.010802  0.007233   \n",
      "luminosity  0.022128 -0.025646  0.047803  0.010802    1.000000 -0.001993   \n",
      "mass        0.007310  0.016843 -0.030708  0.007233   -0.001993  1.000000   \n",
      "helium_ppm  0.075302  0.179373 -0.258277  0.019399   -0.025082 -0.003145   \n",
      "\n",
      "            helium_ppm  \n",
      "id            0.075302  \n",
      "x             0.179373  \n",
      "y            -0.258277  \n",
      "z             0.019399  \n",
      "luminosity   -0.025082  \n",
      "mass         -0.003145  \n",
      "helium_ppm    1.000000  \n"
     ]
    },
    {
     "data": {
      "text/plain": [
       "<AxesSubplot:>"
      ]
     },
     "execution_count": 6,
     "metadata": {},
     "output_type": "execute_result"
    },
    {
     "data": {
      "image/png": "[encoded data removed]",
      "text/plain": [
       "<Figure size 432x288 with 2 Axes>"
      ]
     },
     "metadata": {
      "needs_background": "light"
     },
     "output_type": "display_data"
    }
   ],
   "source": [
    "corr = df.corr()\n",
    "print(corr)\n",
    "sns.heatmap(corr, \n",
    "         xticklabels=corr.columns, \n",
    "         yticklabels=corr.columns)"
   ]
  },
  {
   "cell_type": "code",
   "execution_count": 7,
   "metadata": {},
   "outputs": [],
   "source": [
    "# Min-max normalization\n",
    "def normalize(df, feature_name):\n",
    "    max_value = df[feature_name].max()\n",
    "    min_value = df[feature_name].min()\n",
    "    df[feature_name] = (df[feature_name] - min_value) / (max_value - min_value)\n",
    "    return df"
   ]
  },
  {
   "cell_type": "code",
   "execution_count": 8,
   "metadata": {},
   "outputs": [],
   "source": [
    "df_scaled = normalize(df, 'luminosity')\n",
    "df_scaled = normalize(df_scaled, 'mass')\n",
    "df_scaled = normalize(df_scaled, 'helium_ppm')"
   ]
  },
  {
   "cell_type": "code",
   "execution_count": 9,
   "metadata": {},
   "outputs": [
    {
     "data": {
      "text/html": [
       "<div>\n",
       "<style scoped>\n",
       "    .dataframe tbody tr th:only-of-type {\n",
       "        vertical-align: middle;\n",
       "    }\n",
       "\n",
       "    .dataframe tbody tr th {\n",
       "        vertical-align: top;\n",
       "    }\n",
       "\n",
       "    .dataframe thead th {\n",
       "        text-align: right;\n",
       "    }\n",
       "</style>\n",
       "<table border=\"1\" class=\"dataframe\">\n",
       "  <thead>\n",
       "    <tr style=\"text-align: right;\">\n",
       "      <th></th>\n",
       "      <th>id</th>\n",
       "      <th>x</th>\n",
       "      <th>y</th>\n",
       "      <th>z</th>\n",
       "      <th>luminosity</th>\n",
       "      <th>mass</th>\n",
       "      <th>helium_ppm</th>\n",
       "    </tr>\n",
       "  </thead>\n",
       "  <tbody>\n",
       "    <tr>\n",
       "      <th>0</th>\n",
       "      <td>0</td>\n",
       "      <td>-71.007375</td>\n",
       "      <td>100.774323</td>\n",
       "      <td>-8.198832</td>\n",
       "      <td>0.386616</td>\n",
       "      <td>0.401551</td>\n",
       "      <td>0.163582</td>\n",
       "    </tr>\n",
       "    <tr>\n",
       "      <th>1</th>\n",
       "      <td>1</td>\n",
       "      <td>-74.925552</td>\n",
       "      <td>91.874221</td>\n",
       "      <td>-25.823766</td>\n",
       "      <td>0.289312</td>\n",
       "      <td>0.099803</td>\n",
       "      <td>0.340432</td>\n",
       "    </tr>\n",
       "    <tr>\n",
       "      <th>2</th>\n",
       "      <td>2</td>\n",
       "      <td>-100.302987</td>\n",
       "      <td>64.899237</td>\n",
       "      <td>-71.434851</td>\n",
       "      <td>0.290471</td>\n",
       "      <td>0.125018</td>\n",
       "      <td>0.502476</td>\n",
       "    </tr>\n",
       "    <tr>\n",
       "      <th>3</th>\n",
       "      <td>3</td>\n",
       "      <td>-52.174400</td>\n",
       "      <td>55.024314</td>\n",
       "      <td>-24.166729</td>\n",
       "      <td>0.184228</td>\n",
       "      <td>0.145150</td>\n",
       "      <td>0.628024</td>\n",
       "    </tr>\n",
       "    <tr>\n",
       "      <th>4</th>\n",
       "      <td>4</td>\n",
       "      <td>35.268677</td>\n",
       "      <td>-17.670359</td>\n",
       "      <td>67.339614</td>\n",
       "      <td>0.329842</td>\n",
       "      <td>0.279423</td>\n",
       "      <td>0.362447</td>\n",
       "    </tr>\n",
       "  </tbody>\n",
       "</table>\n",
       "</div>"
      ],
      "text/plain": [
       "   id           x           y          z  luminosity      mass  helium_ppm\n",
       "0   0  -71.007375  100.774323  -8.198832    0.386616  0.401551    0.163582\n",
       "1   1  -74.925552   91.874221 -25.823766    0.289312  0.099803    0.340432\n",
       "2   2 -100.302987   64.899237 -71.434851    0.290471  0.125018    0.502476\n",
       "3   3  -52.174400   55.024314 -24.166729    0.184228  0.145150    0.628024\n",
       "4   4   35.268677  -17.670359  67.339614    0.329842  0.279423    0.362447"
      ]
     },
     "execution_count": 9,
     "metadata": {},
     "output_type": "execute_result"
    }
   ],
   "source": [
    "df_scaled.head()"
   ]
  },
  {
   "cell_type": "code",
   "execution_count": 10,
   "metadata": {},
   "outputs": [],
   "source": [
    "#Convert position to unit vector\n",
    "magnitude = []\n",
    "X = np.array(df_scaled['x'])\n",
    "Y = np.array(df_scaled['y'])\n",
    "Z = np.array(df_scaled['z'])\n",
    "magnitude = X**2 + Y **2 + Z**2\n",
    "magnitude = np.sqrt(magnitude)"
   ]
  },
  {
   "cell_type": "code",
   "execution_count": 11,
   "metadata": {},
   "outputs": [
    {
     "data": {
      "text/plain": [
       "True"
      ]
     },
     "execution_count": 11,
     "metadata": {},
     "output_type": "execute_result"
    }
   ],
   "source": [
    "magnitude[0] == np.sqrt(X[0]**2 + Y[0]**2 + Z[0]**2)"
   ]
  },
  {
   "cell_type": "code",
   "execution_count": 12,
   "metadata": {},
   "outputs": [],
   "source": [
    "scaled_x = np.divide(X, magnitude )\n",
    "scaled_y = np.divide(Y, magnitude )\n",
    "scaled_z = np.divide(Z, magnitude )"
   ]
  },
  {
   "cell_type": "code",
   "execution_count": 13,
   "metadata": {},
   "outputs": [
    {
     "name": "stdout",
     "output_type": "stream",
     "text": [
      "-71.0073750620932 100.77432272706145 -8.198831554838947 123.55052518371313 -0.5747233769869369 0.8156527265037143 -0.06636015138460735 -0.5747233769869369 0.8156527265037143 -0.06636015138460735\n"
     ]
    }
   ],
   "source": [
    "#Check your calculations\n",
    "print(X[0], Y[0], Z[0], magnitude[0], \n",
    "      X[0]/magnitude[0], Y[0]/magnitude[0], Z[0]/magnitude[0], \n",
    "      scaled_x[0], scaled_y[0], scaled_z[0])"
   ]
  },
  {
   "cell_type": "code",
   "execution_count": 14,
   "metadata": {},
   "outputs": [],
   "source": [
    "df_scaled['x'] = scaled_x\n",
    "df_scaled['y'] = scaled_y\n",
    "df_scaled['z'] = scaled_z"
   ]
  },
  {
   "cell_type": "code",
   "execution_count": 15,
   "metadata": {},
   "outputs": [
    {
     "data": {
      "text/html": [
       "<div>\n",
       "<style scoped>\n",
       "    .dataframe tbody tr th:only-of-type {\n",
       "        vertical-align: middle;\n",
       "    }\n",
       "\n",
       "    .dataframe tbody tr th {\n",
       "        vertical-align: top;\n",
       "    }\n",
       "\n",
       "    .dataframe thead th {\n",
       "        text-align: right;\n",
       "    }\n",
       "</style>\n",
       "<table border=\"1\" class=\"dataframe\">\n",
       "  <thead>\n",
       "    <tr style=\"text-align: right;\">\n",
       "      <th></th>\n",
       "      <th>id</th>\n",
       "      <th>x</th>\n",
       "      <th>y</th>\n",
       "      <th>z</th>\n",
       "      <th>luminosity</th>\n",
       "      <th>mass</th>\n",
       "      <th>helium_ppm</th>\n",
       "    </tr>\n",
       "  </thead>\n",
       "  <tbody>\n",
       "    <tr>\n",
       "      <th>0</th>\n",
       "      <td>0</td>\n",
       "      <td>-0.574723</td>\n",
       "      <td>0.815653</td>\n",
       "      <td>-0.066360</td>\n",
       "      <td>0.386616</td>\n",
       "      <td>0.401551</td>\n",
       "      <td>0.163582</td>\n",
       "    </tr>\n",
       "    <tr>\n",
       "      <th>1</th>\n",
       "      <td>1</td>\n",
       "      <td>-0.617522</td>\n",
       "      <td>0.757210</td>\n",
       "      <td>-0.212835</td>\n",
       "      <td>0.289312</td>\n",
       "      <td>0.099803</td>\n",
       "      <td>0.340432</td>\n",
       "    </tr>\n",
       "    <tr>\n",
       "      <th>2</th>\n",
       "      <td>2</td>\n",
       "      <td>-0.720588</td>\n",
       "      <td>0.466243</td>\n",
       "      <td>-0.513196</td>\n",
       "      <td>0.290471</td>\n",
       "      <td>0.125018</td>\n",
       "      <td>0.502476</td>\n",
       "    </tr>\n",
       "    <tr>\n",
       "      <th>3</th>\n",
       "      <td>3</td>\n",
       "      <td>-0.655576</td>\n",
       "      <td>0.691385</td>\n",
       "      <td>-0.303657</td>\n",
       "      <td>0.184228</td>\n",
       "      <td>0.145150</td>\n",
       "      <td>0.628024</td>\n",
       "    </tr>\n",
       "    <tr>\n",
       "      <th>4</th>\n",
       "      <td>4</td>\n",
       "      <td>0.451912</td>\n",
       "      <td>-0.226418</td>\n",
       "      <td>0.862850</td>\n",
       "      <td>0.329842</td>\n",
       "      <td>0.279423</td>\n",
       "      <td>0.362447</td>\n",
       "    </tr>\n",
       "  </tbody>\n",
       "</table>\n",
       "</div>"
      ],
      "text/plain": [
       "   id         x         y         z  luminosity      mass  helium_ppm\n",
       "0   0 -0.574723  0.815653 -0.066360    0.386616  0.401551    0.163582\n",
       "1   1 -0.617522  0.757210 -0.212835    0.289312  0.099803    0.340432\n",
       "2   2 -0.720588  0.466243 -0.513196    0.290471  0.125018    0.502476\n",
       "3   3 -0.655576  0.691385 -0.303657    0.184228  0.145150    0.628024\n",
       "4   4  0.451912 -0.226418  0.862850    0.329842  0.279423    0.362447"
      ]
     },
     "execution_count": 15,
     "metadata": {},
     "output_type": "execute_result"
    }
   ],
   "source": [
    "df_scaled.head()"
   ]
  },
  {
   "cell_type": "code",
   "execution_count": 16,
   "metadata": {},
   "outputs": [
    {
     "data": {
      "image/png": "[encoded data removed]",
      "text/plain": [
       "<Figure size 576x432 with 1 Axes>"
      ]
     },
     "metadata": {
      "needs_background": "light"
     },
     "output_type": "display_data"
    }
   ],
   "source": [
    "lowest_bic = np.infty\n",
    "bic = []\n",
    "n_components_range = range(1, 3)\n",
    "cv_types = ['spherical', 'tied', 'diag', 'full']\n",
    "for cv_type in cv_types:\n",
    "    for n_components in n_components_range:\n",
    "        # Fit a Gaussian mixture with EM\n",
    "        gmm = GaussianMixture(n_components=n_components,\n",
    "                                      covariance_type=cv_type)\n",
    "        gmm.fit(df_scaled)\n",
    "        bic.append(gmm.bic(df_scaled))\n",
    "        if bic[-1] < lowest_bic:\n",
    "            lowest_bic = bic[-1]\n",
    "            best_gmm = gmm\n",
    "\n",
    "bic = np.array(bic)\n",
    "color_iter = itertools.cycle(['navy', 'turquoise', 'cornflowerblue',\n",
    "                              'darkorange'])\n",
    "clf = best_gmm\n",
    "bars = []\n",
    "\n",
    "# Plot the BIC scores\n",
    "plt.figure(figsize=(8, 6))\n",
    "spl = plt.subplot(2, 1, 1)\n",
    "for i, (cv_type, color) in enumerate(zip(cv_types, color_iter)):\n",
    "    xpos = np.array(n_components_range) + .2 * (i - 2)\n",
    "    bars.append(plt.bar(xpos, bic[i * len(n_components_range):\n",
    "                                  (i + 1) * len(n_components_range)],\n",
    "                        width=.2, color=color))\n",
    "plt.xticks(n_components_range)\n",
    "plt.ylim([bic.min() * 1.01 - .01 * bic.max(), bic.max()])\n",
    "plt.title('BIC score per model')\n",
    "xpos = np.mod(bic.argmin(), len(n_components_range)) + .65 +\\\n",
    "    .2 * np.floor(bic.argmin() / len(n_components_range))\n",
    "plt.text(xpos, bic.min() * 0.97 + .03 * bic.max(), '*', fontsize=14)\n",
    "spl.set_xlabel('Number of components')\n",
    "spl.legend([b[0] for b in bars], cv_types)\n",
    "'''\n",
    "# Plot the winner\n",
    "splot = plt.subplot(2, 1, 2)\n",
    "Y_ = clf.predict(X)\n",
    "for i, (mean, cov, color) in enumerate(zip(clf.means_, clf.covariances_,\n",
    "                                           color_iter)):\n",
    "    v, w = linalg.eigh(cov)\n",
    "    if not np.any(Y_ == i):\n",
    "        continue\n",
    "    plt.scatter(X[Y_ == i, 0], X[Y_ == i, 1], .8, color=color)\n",
    "\n",
    "    # Plot an ellipse to show the Gaussian component\n",
    "    angle = np.arctan2(w[0][1], w[0][0])\n",
    "    angle = 180. * angle / np.pi  # convert to degrees\n",
    "    v = 2. * np.sqrt(2.) * np.sqrt(v)\n",
    "    ell = mpl.patches.Ellipse(mean, v[0], v[1], 180. + angle, color=color)\n",
    "    ell.set_clip_box(splot.bbox)\n",
    "    ell.set_alpha(.5)\n",
    "    splot.add_artist(ell)\n",
    "'''\n",
    "\n",
    "plt.show()"
   ]
  },
  {
   "cell_type": "code",
   "execution_count": 17,
   "metadata": {},
   "outputs": [
    {
     "data": {
      "text/plain": [
       "GaussianMixture(covariance_type='tied', n_components=2)"
      ]
     },
     "execution_count": 17,
     "metadata": {},
     "output_type": "execute_result"
    }
   ],
   "source": [
    "clf"
   ]
  },
  {
   "cell_type": "code",
   "execution_count": 18,
   "metadata": {},
   "outputs": [],
   "source": [
    "Y = clf.predict(df_scaled)"
   ]
  },
  {
   "cell_type": "code",
   "execution_count": 19,
   "metadata": {},
   "outputs": [
    {
     "data": {
      "text/plain": [
       "(1, 1)"
      ]
     },
     "execution_count": 19,
     "metadata": {},
     "output_type": "execute_result"
    }
   ],
   "source": [
    "Y[69], Y[420] #Should be distinct"
   ]
  },
  {
   "cell_type": "code",
   "execution_count": 20,
   "metadata": {},
   "outputs": [],
   "source": [
    "#Try K-Means\n",
    "from sklearn.cluster import KMeans\n",
    "kmeans = KMeans(n_clusters=2, random_state=0).fit(df_scaled)\n",
    "Y = kmeans.labels_"
   ]
  },
  {
   "cell_type": "code",
   "execution_count": 21,
   "metadata": {},
   "outputs": [
    {
     "data": {
      "text/plain": [
       "(0, 0)"
      ]
     },
     "execution_count": 21,
     "metadata": {},
     "output_type": "execute_result"
    }
   ],
   "source": [
    "Y[69], Y[420] #Should be distinct"
   ]
  },
  {
   "cell_type": "code",
   "execution_count": 22,
   "metadata": {},
   "outputs": [],
   "source": [
    "#Flip the ids\n",
    "constel_id = []\n",
    "for c_id in Y:\n",
    "    if(c_id == 1):\n",
    "        constel_id.append(0)\n",
    "    else:\n",
    "        constel_id.append(1)"
   ]
  },
  {
   "cell_type": "code",
   "execution_count": 23,
   "metadata": {},
   "outputs": [],
   "source": [
    "df_predict = pd.DataFrame(constel_id)"
   ]
  },
  {
   "cell_type": "code",
   "execution_count": 24,
   "metadata": {},
   "outputs": [
    {
     "data": {
      "text/html": [
       "<div>\n",
       "<style scoped>\n",
       "    .dataframe tbody tr th:only-of-type {\n",
       "        vertical-align: middle;\n",
       "    }\n",
       "\n",
       "    .dataframe tbody tr th {\n",
       "        vertical-align: top;\n",
       "    }\n",
       "\n",
       "    .dataframe thead th {\n",
       "        text-align: right;\n",
       "    }\n",
       "</style>\n",
       "<table border=\"1\" class=\"dataframe\">\n",
       "  <thead>\n",
       "    <tr style=\"text-align: right;\">\n",
       "      <th></th>\n",
       "      <th>0</th>\n",
       "    </tr>\n",
       "  </thead>\n",
       "  <tbody>\n",
       "    <tr>\n",
       "      <th>0</th>\n",
       "      <td>1</td>\n",
       "    </tr>\n",
       "    <tr>\n",
       "      <th>1</th>\n",
       "      <td>1</td>\n",
       "    </tr>\n",
       "    <tr>\n",
       "      <th>2</th>\n",
       "      <td>1</td>\n",
       "    </tr>\n",
       "    <tr>\n",
       "      <th>3</th>\n",
       "      <td>1</td>\n",
       "    </tr>\n",
       "    <tr>\n",
       "      <th>4</th>\n",
       "      <td>1</td>\n",
       "    </tr>\n",
       "  </tbody>\n",
       "</table>\n",
       "</div>"
      ],
      "text/plain": [
       "   0\n",
       "0  1\n",
       "1  1\n",
       "2  1\n",
       "3  1\n",
       "4  1"
      ]
     },
     "execution_count": 24,
     "metadata": {},
     "output_type": "execute_result"
    }
   ],
   "source": [
    "df_predict.head()"
   ]
  },
  {
   "cell_type": "code",
   "execution_count": 25,
   "metadata": {},
   "outputs": [],
   "source": [
    "df_predict.to_csv('./codeml-challenge1/submission3.csv')"
   ]
  },
  {
   "cell_type": "code",
   "execution_count": null,
   "metadata": {},
   "outputs": [],
   "source": []
  }
 ],
 "metadata": {
  "kernelspec": {
   "display_name": "Python 3",
   "language": "python",
   "name": "python3"
  },
  "language_info": {
   "codemirror_mode": {
    "name": "ipython",
    "version": 3
   },
   "file_extension": ".py",
   "mimetype": "text/x-python",
   "name": "python",
   "nbconvert_exporter": "python",
   "pygments_lexer": "ipython3",
   "version": "3.7.9"
  }
 },
 "nbformat": 4,
 "nbformat_minor": 4
}
