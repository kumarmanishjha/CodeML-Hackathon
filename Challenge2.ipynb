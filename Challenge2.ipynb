{
 "cells": [
  {
   "cell_type": "code",
   "execution_count": 1,
   "metadata": {},
   "outputs": [],
   "source": [
    "import pandas as pd\n",
    "import numpy as np\n",
    "import seaborn as sns\n",
    "from sklearn import preprocessing\n",
    "import numpy as np\n",
    "import itertools\n",
    "\n",
    "from scipy import linalg\n",
    "import matplotlib.pyplot as plt\n",
    "%matplotlib inline\n",
    "import matplotlib as mpl\n",
    "from sklearn.mixture import GaussianMixture"
   ]
  },
  {
   "cell_type": "code",
   "execution_count": 2,
   "metadata": {},
   "outputs": [],
   "source": [
    "df = pd.read_csv('./codeml-challenge1/train.csv')"
   ]
  },
  {
   "cell_type": "code",
   "execution_count": 3,
   "metadata": {},
   "outputs": [
    {
     "data": {
      "text/html": [
       "<div>\n",
       "<style scoped>\n",
       "    .dataframe tbody tr th:only-of-type {\n",
       "        vertical-align: middle;\n",
       "    }\n",
       "\n",
       "    .dataframe tbody tr th {\n",
       "        vertical-align: top;\n",
       "    }\n",
       "\n",
       "    .dataframe thead th {\n",
       "        text-align: right;\n",
       "    }\n",
       "</style>\n",
       "<table border=\"1\" class=\"dataframe\">\n",
       "  <thead>\n",
       "    <tr style=\"text-align: right;\">\n",
       "      <th></th>\n",
       "      <th>id</th>\n",
       "      <th>x</th>\n",
       "      <th>y</th>\n",
       "      <th>z</th>\n",
       "      <th>luminosity</th>\n",
       "      <th>mass</th>\n",
       "      <th>helium_ppm</th>\n",
       "    </tr>\n",
       "  </thead>\n",
       "  <tbody>\n",
       "    <tr>\n",
       "      <th>0</th>\n",
       "      <td>0</td>\n",
       "      <td>-71.007375</td>\n",
       "      <td>100.774323</td>\n",
       "      <td>-8.198832</td>\n",
       "      <td>67.562893</td>\n",
       "      <td>2548.034961</td>\n",
       "      <td>212353.541019</td>\n",
       "    </tr>\n",
       "    <tr>\n",
       "      <th>1</th>\n",
       "      <td>1</td>\n",
       "      <td>-74.925552</td>\n",
       "      <td>91.874221</td>\n",
       "      <td>-25.823766</td>\n",
       "      <td>50.584089</td>\n",
       "      <td>633.776097</td>\n",
       "      <td>227226.007527</td>\n",
       "    </tr>\n",
       "    <tr>\n",
       "      <th>2</th>\n",
       "      <td>2</td>\n",
       "      <td>-100.302987</td>\n",
       "      <td>64.899237</td>\n",
       "      <td>-71.434851</td>\n",
       "      <td>50.786286</td>\n",
       "      <td>793.732911</td>\n",
       "      <td>240853.217456</td>\n",
       "    </tr>\n",
       "    <tr>\n",
       "      <th>3</th>\n",
       "      <td>3</td>\n",
       "      <td>-52.174400</td>\n",
       "      <td>55.024314</td>\n",
       "      <td>-24.166729</td>\n",
       "      <td>32.247787</td>\n",
       "      <td>921.451802</td>\n",
       "      <td>251411.349973</td>\n",
       "    </tr>\n",
       "    <tr>\n",
       "      <th>4</th>\n",
       "      <td>4</td>\n",
       "      <td>35.268677</td>\n",
       "      <td>-17.670359</td>\n",
       "      <td>67.339614</td>\n",
       "      <td>57.656351</td>\n",
       "      <td>1773.264514</td>\n",
       "      <td>229077.364655</td>\n",
       "    </tr>\n",
       "  </tbody>\n",
       "</table>\n",
       "</div>"
      ],
      "text/plain": [
       "   id           x           y          z  luminosity         mass  \\\n",
       "0   0  -71.007375  100.774323  -8.198832   67.562893  2548.034961   \n",
       "1   1  -74.925552   91.874221 -25.823766   50.584089   633.776097   \n",
       "2   2 -100.302987   64.899237 -71.434851   50.786286   793.732911   \n",
       "3   3  -52.174400   55.024314 -24.166729   32.247787   921.451802   \n",
       "4   4   35.268677  -17.670359  67.339614   57.656351  1773.264514   \n",
       "\n",
       "      helium_ppm  \n",
       "0  212353.541019  \n",
       "1  227226.007527  \n",
       "2  240853.217456  \n",
       "3  251411.349973  \n",
       "4  229077.364655  "
      ]
     },
     "execution_count": 3,
     "metadata": {},
     "output_type": "execute_result"
    }
   ],
   "source": [
    "df.head()"
   ]
  },
  {
   "cell_type": "code",
   "execution_count": 14,
   "metadata": {},
   "outputs": [
    {
     "data": {
      "text/plain": [
       "(1000, 7)"
      ]
     },
     "execution_count": 14,
     "metadata": {},
     "output_type": "execute_result"
    }
   ],
   "source": [
    "df.shape"
   ]
  },
  {
   "cell_type": "code",
   "execution_count": 4,
   "metadata": {},
   "outputs": [],
   "source": [
    "# X,Y,Z are coordinates. Compute magnitude and directions\n",
    "magnitude = []\n",
    "direction = []"
   ]
  },
  {
   "cell_type": "code",
   "execution_count": 6,
   "metadata": {},
   "outputs": [],
   "source": [
    "X = np.array(df['x'])\n",
    "Y = np.array(df['y'])\n",
    "Z = np.array(df['z'])"
   ]
  },
  {
   "cell_type": "code",
   "execution_count": 7,
   "metadata": {},
   "outputs": [
    {
     "name": "stdout",
     "output_type": "stream",
     "text": [
      "-71.0073750620932 100.77432272706145 -8.198831554838947\n"
     ]
    }
   ],
   "source": [
    "print(X[0], Y[0], Z[0])"
   ]
  },
  {
   "cell_type": "code",
   "execution_count": 9,
   "metadata": {},
   "outputs": [],
   "source": [
    "magnitude = X**2 + Y **2 + Z**2\n",
    "magnitude = np.sqrt(magnitude)"
   ]
  },
  {
   "cell_type": "code",
   "execution_count": 11,
   "metadata": {},
   "outputs": [
    {
     "data": {
      "text/plain": [
       "True"
      ]
     },
     "execution_count": 11,
     "metadata": {},
     "output_type": "execute_result"
    }
   ],
   "source": [
    "magnitude[0] == np.sqrt(X[0]**2 + Y[0]**2 + Z[0]**2)"
   ]
  },
  {
   "cell_type": "code",
   "execution_count": 13,
   "metadata": {},
   "outputs": [
    {
     "name": "stdout",
     "output_type": "stream",
     "text": [
      "[-92.62952784  54.46907001 -77.00323656] [ -6.23768046 -32.33061824 -20.72418717]\n"
     ]
    }
   ],
   "source": [
    "pos_69 = np.array((X[69], Y[69], Z[69]))\n",
    "pos_420 = np.array((X[420], Y[420], Z[420]))\n",
    "print(pos_69, pos_420)"
   ]
  },
  {
   "cell_type": "code",
   "execution_count": 15,
   "metadata": {},
   "outputs": [],
   "source": [
    "from scipy.spatial.distance import cosine"
   ]
  },
  {
   "cell_type": "code",
   "execution_count": 16,
   "metadata": {},
   "outputs": [],
   "source": [
    "cos_69 = []\n",
    "cos_420 = []\n",
    "for i in range(df.shape[0]):\n",
    "    v = np.array((X[i], Y[i], Z[i]))\n",
    "    cos_69.append(cosine(v, pos_69))\n",
    "    cos_420.append(cosine(v,pos_420))"
   ]
  },
  {
   "cell_type": "code",
   "execution_count": 17,
   "metadata": {},
   "outputs": [
    {
     "data": {
      "text/plain": [
       "(0.0, 0.0)"
      ]
     },
     "execution_count": 17,
     "metadata": {},
     "output_type": "execute_result"
    }
   ],
   "source": [
    "cos_69[69], cos_420[420] #Should be zero"
   ]
  },
  {
   "cell_type": "code",
   "execution_count": 37,
   "metadata": {},
   "outputs": [],
   "source": [
    "df['magnitude'] = magnitude\n",
    "df['cos69'] = cos_69\n",
    "df['cos_420'] = cos_420"
   ]
  },
  {
   "cell_type": "code",
   "execution_count": 38,
   "metadata": {},
   "outputs": [
    {
     "data": {
      "text/html": [
       "<div>\n",
       "<style scoped>\n",
       "    .dataframe tbody tr th:only-of-type {\n",
       "        vertical-align: middle;\n",
       "    }\n",
       "\n",
       "    .dataframe tbody tr th {\n",
       "        vertical-align: top;\n",
       "    }\n",
       "\n",
       "    .dataframe thead th {\n",
       "        text-align: right;\n",
       "    }\n",
       "</style>\n",
       "<table border=\"1\" class=\"dataframe\">\n",
       "  <thead>\n",
       "    <tr style=\"text-align: right;\">\n",
       "      <th></th>\n",
       "      <th>id</th>\n",
       "      <th>x</th>\n",
       "      <th>y</th>\n",
       "      <th>z</th>\n",
       "      <th>luminosity</th>\n",
       "      <th>mass</th>\n",
       "      <th>helium_ppm</th>\n",
       "      <th>magnitude</th>\n",
       "      <th>cos69</th>\n",
       "      <th>cos_420</th>\n",
       "    </tr>\n",
       "  </thead>\n",
       "  <tbody>\n",
       "    <tr>\n",
       "      <th>0</th>\n",
       "      <td>0</td>\n",
       "      <td>-71.007375</td>\n",
       "      <td>100.774323</td>\n",
       "      <td>-8.198832</td>\n",
       "      <td>67.562893</td>\n",
       "      <td>2548.034961</td>\n",
       "      <td>212353.541019</td>\n",
       "      <td>123.550525</td>\n",
       "      <td>0.222581</td>\n",
       "      <td>1.550311</td>\n",
       "    </tr>\n",
       "    <tr>\n",
       "      <th>1</th>\n",
       "      <td>1</td>\n",
       "      <td>-74.925552</td>\n",
       "      <td>91.874221</td>\n",
       "      <td>-25.823766</td>\n",
       "      <td>50.584089</td>\n",
       "      <td>633.776097</td>\n",
       "      <td>227226.007527</td>\n",
       "      <td>121.332509</td>\n",
       "      <td>0.131353</td>\n",
       "      <td>1.416861</td>\n",
       "    </tr>\n",
       "    <tr>\n",
       "      <th>2</th>\n",
       "      <td>2</td>\n",
       "      <td>-100.302987</td>\n",
       "      <td>64.899237</td>\n",
       "      <td>-71.434851</td>\n",
       "      <td>50.786286</td>\n",
       "      <td>793.732911</td>\n",
       "      <td>240853.217456</td>\n",
       "      <td>139.196042</td>\n",
       "      <td>0.004068</td>\n",
       "      <td>0.998550</td>\n",
       "    </tr>\n",
       "    <tr>\n",
       "      <th>3</th>\n",
       "      <td>3</td>\n",
       "      <td>-52.174400</td>\n",
       "      <td>55.024314</td>\n",
       "      <td>-24.166729</td>\n",
       "      <td>32.247787</td>\n",
       "      <td>921.451802</td>\n",
       "      <td>251411.349973</td>\n",
       "      <td>79.585639</td>\n",
       "      <td>0.078910</td>\n",
       "      <td>1.307681</td>\n",
       "    </tr>\n",
       "    <tr>\n",
       "      <th>4</th>\n",
       "      <td>4</td>\n",
       "      <td>35.268677</td>\n",
       "      <td>-17.670359</td>\n",
       "      <td>67.339614</td>\n",
       "      <td>57.656351</td>\n",
       "      <td>1773.264514</td>\n",
       "      <td>229077.364655</td>\n",
       "      <td>78.043224</td>\n",
       "      <td>1.912528</td>\n",
       "      <td>1.343920</td>\n",
       "    </tr>\n",
       "  </tbody>\n",
       "</table>\n",
       "</div>"
      ],
      "text/plain": [
       "   id           x           y          z  luminosity         mass  \\\n",
       "0   0  -71.007375  100.774323  -8.198832   67.562893  2548.034961   \n",
       "1   1  -74.925552   91.874221 -25.823766   50.584089   633.776097   \n",
       "2   2 -100.302987   64.899237 -71.434851   50.786286   793.732911   \n",
       "3   3  -52.174400   55.024314 -24.166729   32.247787   921.451802   \n",
       "4   4   35.268677  -17.670359  67.339614   57.656351  1773.264514   \n",
       "\n",
       "      helium_ppm   magnitude     cos69   cos_420  \n",
       "0  212353.541019  123.550525  0.222581  1.550311  \n",
       "1  227226.007527  121.332509  0.131353  1.416861  \n",
       "2  240853.217456  139.196042  0.004068  0.998550  \n",
       "3  251411.349973   79.585639  0.078910  1.307681  \n",
       "4  229077.364655   78.043224  1.912528  1.343920  "
      ]
     },
     "execution_count": 38,
     "metadata": {},
     "output_type": "execute_result"
    }
   ],
   "source": [
    "df.head()"
   ]
  },
  {
   "cell_type": "code",
   "execution_count": 39,
   "metadata": {},
   "outputs": [],
   "source": [
    "def normalize(df, feature_name):\n",
    "    max_value = df[feature_name].max()\n",
    "    min_value = df[feature_name].min()\n",
    "    df[feature_name] = (df[feature_name] - min_value) / (max_value - min_value)\n",
    "    return df"
   ]
  },
  {
   "cell_type": "code",
   "execution_count": 44,
   "metadata": {},
   "outputs": [],
   "source": [
    "normalized_df = normalize(df, 'luminosity')\n",
    "normalized_df = normalize(normalized_df, 'mass')\n",
    "normalized_df = normalize(normalized_df, 'helium_ppm')"
   ]
  },
  {
   "cell_type": "code",
   "execution_count": 45,
   "metadata": {},
   "outputs": [
    {
     "data": {
      "text/html": [
       "<div>\n",
       "<style scoped>\n",
       "    .dataframe tbody tr th:only-of-type {\n",
       "        vertical-align: middle;\n",
       "    }\n",
       "\n",
       "    .dataframe tbody tr th {\n",
       "        vertical-align: top;\n",
       "    }\n",
       "\n",
       "    .dataframe thead th {\n",
       "        text-align: right;\n",
       "    }\n",
       "</style>\n",
       "<table border=\"1\" class=\"dataframe\">\n",
       "  <thead>\n",
       "    <tr style=\"text-align: right;\">\n",
       "      <th></th>\n",
       "      <th>id</th>\n",
       "      <th>x</th>\n",
       "      <th>y</th>\n",
       "      <th>z</th>\n",
       "      <th>luminosity</th>\n",
       "      <th>mass</th>\n",
       "      <th>helium_ppm</th>\n",
       "      <th>magnitude</th>\n",
       "      <th>cos69</th>\n",
       "      <th>cos_420</th>\n",
       "    </tr>\n",
       "  </thead>\n",
       "  <tbody>\n",
       "    <tr>\n",
       "      <th>0</th>\n",
       "      <td>0</td>\n",
       "      <td>-71.007375</td>\n",
       "      <td>100.774323</td>\n",
       "      <td>-8.198832</td>\n",
       "      <td>0.386616</td>\n",
       "      <td>0.401551</td>\n",
       "      <td>0.163582</td>\n",
       "      <td>123.550525</td>\n",
       "      <td>0.222581</td>\n",
       "      <td>1.550311</td>\n",
       "    </tr>\n",
       "    <tr>\n",
       "      <th>1</th>\n",
       "      <td>1</td>\n",
       "      <td>-74.925552</td>\n",
       "      <td>91.874221</td>\n",
       "      <td>-25.823766</td>\n",
       "      <td>0.289312</td>\n",
       "      <td>0.099803</td>\n",
       "      <td>0.340432</td>\n",
       "      <td>121.332509</td>\n",
       "      <td>0.131353</td>\n",
       "      <td>1.416861</td>\n",
       "    </tr>\n",
       "    <tr>\n",
       "      <th>2</th>\n",
       "      <td>2</td>\n",
       "      <td>-100.302987</td>\n",
       "      <td>64.899237</td>\n",
       "      <td>-71.434851</td>\n",
       "      <td>0.290471</td>\n",
       "      <td>0.125018</td>\n",
       "      <td>0.502476</td>\n",
       "      <td>139.196042</td>\n",
       "      <td>0.004068</td>\n",
       "      <td>0.998550</td>\n",
       "    </tr>\n",
       "    <tr>\n",
       "      <th>3</th>\n",
       "      <td>3</td>\n",
       "      <td>-52.174400</td>\n",
       "      <td>55.024314</td>\n",
       "      <td>-24.166729</td>\n",
       "      <td>0.184228</td>\n",
       "      <td>0.145150</td>\n",
       "      <td>0.628024</td>\n",
       "      <td>79.585639</td>\n",
       "      <td>0.078910</td>\n",
       "      <td>1.307681</td>\n",
       "    </tr>\n",
       "    <tr>\n",
       "      <th>4</th>\n",
       "      <td>4</td>\n",
       "      <td>35.268677</td>\n",
       "      <td>-17.670359</td>\n",
       "      <td>67.339614</td>\n",
       "      <td>0.329842</td>\n",
       "      <td>0.279423</td>\n",
       "      <td>0.362447</td>\n",
       "      <td>78.043224</td>\n",
       "      <td>1.912528</td>\n",
       "      <td>1.343920</td>\n",
       "    </tr>\n",
       "  </tbody>\n",
       "</table>\n",
       "</div>"
      ],
      "text/plain": [
       "   id           x           y          z  luminosity      mass  helium_ppm  \\\n",
       "0   0  -71.007375  100.774323  -8.198832    0.386616  0.401551    0.163582   \n",
       "1   1  -74.925552   91.874221 -25.823766    0.289312  0.099803    0.340432   \n",
       "2   2 -100.302987   64.899237 -71.434851    0.290471  0.125018    0.502476   \n",
       "3   3  -52.174400   55.024314 -24.166729    0.184228  0.145150    0.628024   \n",
       "4   4   35.268677  -17.670359  67.339614    0.329842  0.279423    0.362447   \n",
       "\n",
       "    magnitude     cos69   cos_420  \n",
       "0  123.550525  0.222581  1.550311  \n",
       "1  121.332509  0.131353  1.416861  \n",
       "2  139.196042  0.004068  0.998550  \n",
       "3   79.585639  0.078910  1.307681  \n",
       "4   78.043224  1.912528  1.343920  "
      ]
     },
     "execution_count": 45,
     "metadata": {},
     "output_type": "execute_result"
    }
   ],
   "source": [
    "normalized_df.head()"
   ]
  },
  {
   "cell_type": "code",
   "execution_count": 46,
   "metadata": {},
   "outputs": [
    {
     "name": "stdout",
     "output_type": "stream",
     "text": [
      "                  id         x         y         z  luminosity      mass  \\\n",
      "id          1.000000  0.025973  0.002025  0.034241    0.022128  0.007310   \n",
      "x           0.025973  1.000000 -0.595487  0.749383   -0.025646  0.016843   \n",
      "y           0.002025 -0.595487  1.000000  0.066156    0.047803 -0.030708   \n",
      "z           0.034241  0.749383  0.066156  1.000000    0.010802  0.007233   \n",
      "luminosity  0.022128 -0.025646  0.047803  0.010802    1.000000 -0.001993   \n",
      "mass        0.007310  0.016843 -0.030708  0.007233   -0.001993  1.000000   \n",
      "helium_ppm  0.075302  0.179373 -0.258277  0.019399   -0.025082 -0.003145   \n",
      "magnitude  -0.022508 -0.001873  0.209223  0.165999    0.025379 -0.068950   \n",
      "cos69       0.013372  0.936872 -0.547370  0.724131   -0.007935  0.022682   \n",
      "cos_420     0.019300  0.023695  0.748777  0.638920    0.020490 -0.006783   \n",
      "\n",
      "            helium_ppm  magnitude     cos69   cos_420  \n",
      "id            0.075302  -0.022508  0.013372  0.019300  \n",
      "x             0.179373  -0.001873  0.936872  0.023695  \n",
      "y            -0.258277   0.209223 -0.547370  0.748777  \n",
      "z             0.019399   0.165999  0.724131  0.638920  \n",
      "luminosity   -0.025082   0.025379 -0.007935  0.020490  \n",
      "mass         -0.003145  -0.068950  0.022682 -0.006783  \n",
      "helium_ppm    1.000000  -0.015746  0.036652 -0.130935  \n",
      "magnitude    -0.015746   1.000000 -0.004808  0.225243  \n",
      "cos69         0.036652  -0.004808  1.000000  0.062465  \n",
      "cos_420      -0.130935   0.225243  0.062465  1.000000  \n"
     ]
    },
    {
     "data": {
      "text/plain": [
       "<AxesSubplot:>"
      ]
     },
     "execution_count": 46,
     "metadata": {},
     "output_type": "execute_result"
    },
    {
     "data": {
      "image/png": "[encoded data removed]",
      "text/plain": [
       "<Figure size 432x288 with 2 Axes>"
      ]
     },
     "metadata": {
      "needs_background": "light"
     },
     "output_type": "display_data"
    }
   ],
   "source": [
    "corr = normalized_df.corr()\n",
    "print(corr)\n",
    "sns.heatmap(corr, \n",
    "         xticklabels=corr.columns, \n",
    "         yticklabels=corr.columns)"
   ]
  },
  {
   "cell_type": "code",
   "execution_count": 48,
   "metadata": {},
   "outputs": [],
   "source": [
    "final_df = normalized_df.iloc[:, 4:]"
   ]
  },
  {
   "cell_type": "code",
   "execution_count": 49,
   "metadata": {},
   "outputs": [
    {
     "data": {
      "text/html": [
       "<div>\n",
       "<style scoped>\n",
       "    .dataframe tbody tr th:only-of-type {\n",
       "        vertical-align: middle;\n",
       "    }\n",
       "\n",
       "    .dataframe tbody tr th {\n",
       "        vertical-align: top;\n",
       "    }\n",
       "\n",
       "    .dataframe thead th {\n",
       "        text-align: right;\n",
       "    }\n",
       "</style>\n",
       "<table border=\"1\" class=\"dataframe\">\n",
       "  <thead>\n",
       "    <tr style=\"text-align: right;\">\n",
       "      <th></th>\n",
       "      <th>luminosity</th>\n",
       "      <th>mass</th>\n",
       "      <th>helium_ppm</th>\n",
       "      <th>magnitude</th>\n",
       "      <th>cos69</th>\n",
       "      <th>cos_420</th>\n",
       "    </tr>\n",
       "  </thead>\n",
       "  <tbody>\n",
       "    <tr>\n",
       "      <th>0</th>\n",
       "      <td>0.386616</td>\n",
       "      <td>0.401551</td>\n",
       "      <td>0.163582</td>\n",
       "      <td>123.550525</td>\n",
       "      <td>0.222581</td>\n",
       "      <td>1.550311</td>\n",
       "    </tr>\n",
       "    <tr>\n",
       "      <th>1</th>\n",
       "      <td>0.289312</td>\n",
       "      <td>0.099803</td>\n",
       "      <td>0.340432</td>\n",
       "      <td>121.332509</td>\n",
       "      <td>0.131353</td>\n",
       "      <td>1.416861</td>\n",
       "    </tr>\n",
       "    <tr>\n",
       "      <th>2</th>\n",
       "      <td>0.290471</td>\n",
       "      <td>0.125018</td>\n",
       "      <td>0.502476</td>\n",
       "      <td>139.196042</td>\n",
       "      <td>0.004068</td>\n",
       "      <td>0.998550</td>\n",
       "    </tr>\n",
       "    <tr>\n",
       "      <th>3</th>\n",
       "      <td>0.184228</td>\n",
       "      <td>0.145150</td>\n",
       "      <td>0.628024</td>\n",
       "      <td>79.585639</td>\n",
       "      <td>0.078910</td>\n",
       "      <td>1.307681</td>\n",
       "    </tr>\n",
       "    <tr>\n",
       "      <th>4</th>\n",
       "      <td>0.329842</td>\n",
       "      <td>0.279423</td>\n",
       "      <td>0.362447</td>\n",
       "      <td>78.043224</td>\n",
       "      <td>1.912528</td>\n",
       "      <td>1.343920</td>\n",
       "    </tr>\n",
       "  </tbody>\n",
       "</table>\n",
       "</div>"
      ],
      "text/plain": [
       "   luminosity      mass  helium_ppm   magnitude     cos69   cos_420\n",
       "0    0.386616  0.401551    0.163582  123.550525  0.222581  1.550311\n",
       "1    0.289312  0.099803    0.340432  121.332509  0.131353  1.416861\n",
       "2    0.290471  0.125018    0.502476  139.196042  0.004068  0.998550\n",
       "3    0.184228  0.145150    0.628024   79.585639  0.078910  1.307681\n",
       "4    0.329842  0.279423    0.362447   78.043224  1.912528  1.343920"
      ]
     },
     "execution_count": 49,
     "metadata": {},
     "output_type": "execute_result"
    }
   ],
   "source": [
    "final_df.head()"
   ]
  },
  {
   "cell_type": "code",
   "execution_count": 52,
   "metadata": {},
   "outputs": [
    {
     "data": {
      "image/png": "[encoded data removed]",
      "text/plain": [
       "<Figure size 576x432 with 1 Axes>"
      ]
     },
     "metadata": {
      "needs_background": "light"
     },
     "output_type": "display_data"
    }
   ],
   "source": [
    "lowest_bic = np.infty\n",
    "bic = []\n",
    "n_components_range = range(1, 3)\n",
    "cv_types = ['spherical', 'tied', 'diag', 'full']\n",
    "for cv_type in cv_types:\n",
    "    for n_components in n_components_range:\n",
    "        # Fit a Gaussian mixture with EM\n",
    "        gmm = GaussianMixture(n_components=n_components,\n",
    "                                      covariance_type=cv_type)\n",
    "        gmm.fit(final_df)\n",
    "        bic.append(gmm.bic(final_df))\n",
    "        if bic[-1] < lowest_bic:\n",
    "            lowest_bic = bic[-1]\n",
    "            best_gmm = gmm\n",
    "\n",
    "bic = np.array(bic)\n",
    "color_iter = itertools.cycle(['navy', 'turquoise', 'cornflowerblue',\n",
    "                              'darkorange'])\n",
    "clf = best_gmm\n",
    "bars = []\n",
    "\n",
    "# Plot the BIC scores\n",
    "plt.figure(figsize=(8, 6))\n",
    "spl = plt.subplot(2, 1, 1)\n",
    "for i, (cv_type, color) in enumerate(zip(cv_types, color_iter)):\n",
    "    xpos = np.array(n_components_range) + .2 * (i - 2)\n",
    "    bars.append(plt.bar(xpos, bic[i * len(n_components_range):\n",
    "                                  (i + 1) * len(n_components_range)],\n",
    "                        width=.2, color=color))\n",
    "plt.xticks(n_components_range)\n",
    "plt.ylim([bic.min() * 1.01 - .01 * bic.max(), bic.max()])\n",
    "plt.title('BIC score per model')\n",
    "xpos = np.mod(bic.argmin(), len(n_components_range)) + .65 +\\\n",
    "    .2 * np.floor(bic.argmin() / len(n_components_range))\n",
    "plt.text(xpos, bic.min() * 0.97 + .03 * bic.max(), '*', fontsize=14)\n",
    "spl.set_xlabel('Number of components')\n",
    "spl.legend([b[0] for b in bars], cv_types)\n",
    "'''\n",
    "# Plot the winner\n",
    "splot = plt.subplot(2, 1, 2)\n",
    "Y_ = clf.predict(X)\n",
    "for i, (mean, cov, color) in enumerate(zip(clf.means_, clf.covariances_,\n",
    "                                           color_iter)):\n",
    "    v, w = linalg.eigh(cov)\n",
    "    if not np.any(Y_ == i):\n",
    "        continue\n",
    "    plt.scatter(X[Y_ == i, 0], X[Y_ == i, 1], .8, color=color)\n",
    "\n",
    "    # Plot an ellipse to show the Gaussian component\n",
    "    angle = np.arctan2(w[0][1], w[0][0])\n",
    "    angle = 180. * angle / np.pi  # convert to degrees\n",
    "    v = 2. * np.sqrt(2.) * np.sqrt(v)\n",
    "    ell = mpl.patches.Ellipse(mean, v[0], v[1], 180. + angle, color=color)\n",
    "    ell.set_clip_box(splot.bbox)\n",
    "    ell.set_alpha(.5)\n",
    "    splot.add_artist(ell)\n",
    "'''\n",
    "\n",
    "plt.show()"
   ]
  },
  {
   "cell_type": "code",
   "execution_count": 53,
   "metadata": {},
   "outputs": [],
   "source": [
    "Y = clf.predict(final_df)"
   ]
  },
  {
   "cell_type": "code",
   "execution_count": 54,
   "metadata": {},
   "outputs": [
    {
     "data": {
      "text/plain": [
       "(1, 0)"
      ]
     },
     "execution_count": 54,
     "metadata": {},
     "output_type": "execute_result"
    }
   ],
   "source": [
    "Y[69], Y[420] #Should be distinct"
   ]
  },
  {
   "cell_type": "code",
   "execution_count": 55,
   "metadata": {},
   "outputs": [],
   "source": [
    "#Flip the ids\n",
    "constel_id = []\n",
    "for c_id in Y:\n",
    "    if(c_id == 1):\n",
    "        constel_id.append(0)\n",
    "    else:\n",
    "        constel_id.append(1)"
   ]
  },
  {
   "cell_type": "code",
   "execution_count": 56,
   "metadata": {},
   "outputs": [],
   "source": [
    "df_predict = pd.DataFrame(constel_id)"
   ]
  },
  {
   "cell_type": "code",
   "execution_count": 57,
   "metadata": {},
   "outputs": [
    {
     "data": {
      "text/html": [
       "<div>\n",
       "<style scoped>\n",
       "    .dataframe tbody tr th:only-of-type {\n",
       "        vertical-align: middle;\n",
       "    }\n",
       "\n",
       "    .dataframe tbody tr th {\n",
       "        vertical-align: top;\n",
       "    }\n",
       "\n",
       "    .dataframe thead th {\n",
       "        text-align: right;\n",
       "    }\n",
       "</style>\n",
       "<table border=\"1\" class=\"dataframe\">\n",
       "  <thead>\n",
       "    <tr style=\"text-align: right;\">\n",
       "      <th></th>\n",
       "      <th>0</th>\n",
       "    </tr>\n",
       "  </thead>\n",
       "  <tbody>\n",
       "    <tr>\n",
       "      <th>0</th>\n",
       "      <td>0</td>\n",
       "    </tr>\n",
       "    <tr>\n",
       "      <th>1</th>\n",
       "      <td>0</td>\n",
       "    </tr>\n",
       "    <tr>\n",
       "      <th>2</th>\n",
       "      <td>0</td>\n",
       "    </tr>\n",
       "    <tr>\n",
       "      <th>3</th>\n",
       "      <td>1</td>\n",
       "    </tr>\n",
       "    <tr>\n",
       "      <th>4</th>\n",
       "      <td>1</td>\n",
       "    </tr>\n",
       "  </tbody>\n",
       "</table>\n",
       "</div>"
      ],
      "text/plain": [
       "   0\n",
       "0  0\n",
       "1  0\n",
       "2  0\n",
       "3  1\n",
       "4  1"
      ]
     },
     "execution_count": 57,
     "metadata": {},
     "output_type": "execute_result"
    }
   ],
   "source": [
    "df_predict.head()"
   ]
  },
  {
   "cell_type": "code",
   "execution_count": 58,
   "metadata": {},
   "outputs": [],
   "source": [
    "df_predict.to_csv('./codeml-challenge1/submission2.csv')"
   ]
  },
  {
   "cell_type": "code",
   "execution_count": null,
   "metadata": {},
   "outputs": [],
   "source": []
  }
 ],
 "metadata": {
  "kernelspec": {
   "display_name": "Python 3",
   "language": "python",
   "name": "python3"
  },
  "language_info": {
   "codemirror_mode": {
    "name": "ipython",
    "version": 3
   },
   "file_extension": ".py",
   "mimetype": "text/x-python",
   "name": "python",
   "nbconvert_exporter": "python",
   "pygments_lexer": "ipython3",
   "version": "3.7.9"
  }
 },
 "nbformat": 4,
 "nbformat_minor": 4
}
